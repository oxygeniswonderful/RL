{
  "cells": [
    {
      "cell_type": "markdown",
      "metadata": {
        "run_control": {
          "frozen": false,
          "read_only": false
        },
        "id": "hPgO2i8IYWHO"
      },
      "source": [
        "# Глубокий кросс-энтропийный метод\n",
        "\n",
        "#### дедлайн задания: 19 марта, 23:59 GMT+3\n",
        "\n",
        "В данной работе будет рассмотрено обобщение кросс-энтропийного метода на случай параметризации агента с помощью нейросети. Перед вами будет поставлена задача обучить многослойную нейронную сеть для решения простых игр в непрерывных пространствах состояний."
      ]
    },
    {
      "cell_type": "markdown",
      "metadata": {
        "id": "3VfFjCzcYWHQ"
      },
      "source": [
        "# Работа выполнена: Восканян Давид Тигранович, М05-212б"
      ]
    },
    {
      "cell_type": "code",
      "execution_count": 1,
      "metadata": {
        "colab": {
          "base_uri": "https://localhost:8080/"
        },
        "id": "LMsVzQs-YWHR",
        "outputId": "2b640bd2-c3b1-4494-d713-4a55867b1fb5"
      },
      "outputs": [
        {
          "output_type": "stream",
          "name": "stdout",
          "text": [
            "Reading package lists... Done\n",
            "Building dependency tree       \n",
            "Reading state information... Done\n",
            "Package libav-tools is not available, but is referred to by another package.\n",
            "This may mean that the package is missing, has been obsoleted, or\n",
            "is only available from another source\n",
            "However the following packages replace it:\n",
            "  ffmpeg\n",
            "\n",
            "E: Package 'libav-tools' has no installation candidate\n",
            "Looking in indexes: https://pypi.org/simple, https://us-python.pkg.dev/colab-wheels/public/simple/\n",
            "Collecting piglet\n",
            "  Downloading piglet-1.0.0-py2.py3-none-any.whl (2.2 kB)\n",
            "Collecting pyvirtualdisplay\n",
            "  Downloading PyVirtualDisplay-3.0-py3-none-any.whl (15 kB)\n",
            "Collecting gym[all]==0.18.3\n",
            "  Downloading gym-0.18.3.tar.gz (1.6 MB)\n",
            "\u001b[2K     \u001b[90m━━━━━━━━━━━━━━━━━━━━━━━━━━━━━━━━━━━━━━━━\u001b[0m \u001b[32m1.6/1.6 MB\u001b[0m \u001b[31m24.3 MB/s\u001b[0m eta \u001b[36m0:00:00\u001b[0m\n",
            "\u001b[?25h  Preparing metadata (setup.py) ... \u001b[?25l\u001b[?25hdone\n",
            "Requirement already satisfied: scipy in /usr/local/lib/python3.9/dist-packages (from gym[all]==0.18.3) (1.10.1)\n",
            "Requirement already satisfied: numpy>=1.10.4 in /usr/local/lib/python3.9/dist-packages (from gym[all]==0.18.3) (1.22.4)\n",
            "Collecting pyglet<=1.5.15,>=1.4.0\n",
            "  Downloading pyglet-1.5.15-py3-none-any.whl (1.1 MB)\n",
            "\u001b[2K     \u001b[90m━━━━━━━━━━━━━━━━━━━━━━━━━━━━━━━━━━━━━━━━\u001b[0m \u001b[32m1.1/1.1 MB\u001b[0m \u001b[31m13.7 MB/s\u001b[0m eta \u001b[36m0:00:00\u001b[0m\n",
            "\u001b[?25hCollecting Pillow<=8.2.0\n",
            "  Downloading Pillow-8.2.0-cp39-cp39-manylinux1_x86_64.whl (3.0 MB)\n",
            "\u001b[2K     \u001b[90m━━━━━━━━━━━━━━━━━━━━━━━━━━━━━━━━━━━━━━━━\u001b[0m \u001b[32m3.0/3.0 MB\u001b[0m \u001b[31m12.9 MB/s\u001b[0m eta \u001b[36m0:00:00\u001b[0m\n",
            "\u001b[?25hCollecting cloudpickle<1.7.0,>=1.2.0\n",
            "  Downloading cloudpickle-1.6.0-py3-none-any.whl (23 kB)\n",
            "Collecting mujoco_py<2.0,>=1.50\n",
            "  Downloading mujoco-py-1.50.1.68.tar.gz (120 kB)\n",
            "\u001b[2K     \u001b[90m━━━━━━━━━━━━━━━━━━━━━━━━━━━━━━━━━━━━━━━\u001b[0m \u001b[32m120.7/120.7 KB\u001b[0m \u001b[31m7.6 MB/s\u001b[0m eta \u001b[36m0:00:00\u001b[0m\n",
            "\u001b[?25h  Preparing metadata (setup.py) ... \u001b[?25l\u001b[?25hdone\n",
            "Collecting box2d-py~=2.3.5\n",
            "  Downloading box2d-py-2.3.8.tar.gz (374 kB)\n",
            "\u001b[2K     \u001b[90m━━━━━━━━━━━━━━━━━━━━━━━━━━━━━━━━━━━━━━\u001b[0m \u001b[32m374.5/374.5 KB\u001b[0m \u001b[31m15.7 MB/s\u001b[0m eta \u001b[36m0:00:00\u001b[0m\n",
            "\u001b[?25h  Preparing metadata (setup.py) ... \u001b[?25l\u001b[?25hdone\n",
            "Requirement already satisfied: opencv-python>=3. in /usr/local/lib/python3.9/dist-packages (from gym[all]==0.18.3) (4.7.0.72)\n",
            "Requirement already satisfied: imageio in /usr/local/lib/python3.9/dist-packages (from gym[all]==0.18.3) (2.25.1)\n",
            "Collecting atari_py~=0.2.0\n",
            "  Downloading atari_py-0.2.9-cp39-cp39-manylinux_2_17_x86_64.manylinux2014_x86_64.whl (2.8 MB)\n",
            "\u001b[2K     \u001b[90m━━━━━━━━━━━━━━━━━━━━━━━━━━━━━━━━━━━━━━━━\u001b[0m \u001b[32m2.8/2.8 MB\u001b[0m \u001b[31m22.4 MB/s\u001b[0m eta \u001b[36m0:00:00\u001b[0m\n",
            "\u001b[?25hCollecting piglet-templates\n",
            "  Downloading piglet_templates-1.3.0-py3-none-any.whl (67 kB)\n",
            "\u001b[2K     \u001b[90m━━━━━━━━━━━━━━━━━━━━━━━━━━━━━━━━━━━━━━━━\u001b[0m \u001b[32m67.5/67.5 KB\u001b[0m \u001b[31m7.2 MB/s\u001b[0m eta \u001b[36m0:00:00\u001b[0m\n",
            "\u001b[?25hRequirement already satisfied: six in /usr/local/lib/python3.9/dist-packages (from atari_py~=0.2.0->gym[all]==0.18.3) (1.16.0)\n",
            "Collecting glfw>=1.4.0\n",
            "  Downloading glfw-2.5.7-py2.py27.py3.py30.py31.py32.py33.py34.py35.py36.py37.py38-none-manylinux2014_x86_64.whl (207 kB)\n",
            "\u001b[2K     \u001b[90m━━━━━━━━━━━━━━━━━━━━━━━━━━━━━━━━━━━━━━\u001b[0m \u001b[32m207.7/207.7 KB\u001b[0m \u001b[31m17.4 MB/s\u001b[0m eta \u001b[36m0:00:00\u001b[0m\n",
            "\u001b[?25hRequirement already satisfied: Cython>=0.27.2 in /usr/local/lib/python3.9/dist-packages (from mujoco_py<2.0,>=1.50->gym[all]==0.18.3) (0.29.33)\n",
            "Requirement already satisfied: cffi>=1.10 in /usr/local/lib/python3.9/dist-packages (from mujoco_py<2.0,>=1.50->gym[all]==0.18.3) (1.15.1)\n",
            "Collecting lockfile>=0.12.2\n",
            "  Downloading lockfile-0.12.2-py2.py3-none-any.whl (13 kB)\n",
            "Collecting imageio\n",
            "  Downloading imageio-2.26.1-py3-none-any.whl (3.4 MB)\n",
            "\u001b[2K     \u001b[90m━━━━━━━━━━━━━━━━━━━━━━━━━━━━━━━━━━━━━━━━\u001b[0m \u001b[32m3.4/3.4 MB\u001b[0m \u001b[31m22.1 MB/s\u001b[0m eta \u001b[36m0:00:00\u001b[0m\n",
            "\u001b[?25h  Downloading imageio-2.26.0-py3-none-any.whl (3.4 MB)\n",
            "\u001b[2K     \u001b[90m━━━━━━━━━━━━━━━━━━━━━━━━━━━━━━━━━━━━━━━━\u001b[0m \u001b[32m3.4/3.4 MB\u001b[0m \u001b[31m30.5 MB/s\u001b[0m eta \u001b[36m0:00:00\u001b[0m\n",
            "\u001b[?25h  Downloading imageio-2.25.0-py3-none-any.whl (3.4 MB)\n",
            "\u001b[2K     \u001b[90m━━━━━━━━━━━━━━━━━━━━━━━━━━━━━━━━━━━━━━━━\u001b[0m \u001b[32m3.4/3.4 MB\u001b[0m \u001b[31m10.7 MB/s\u001b[0m eta \u001b[36m0:00:00\u001b[0m\n",
            "\u001b[?25h  Downloading imageio-2.24.0-py3-none-any.whl (3.4 MB)\n",
            "\u001b[2K     \u001b[90m━━━━━━━━━━━━━━━━━━━━━━━━━━━━━━━━━━━━━━━━\u001b[0m \u001b[32m3.4/3.4 MB\u001b[0m \u001b[31m16.2 MB/s\u001b[0m eta \u001b[36m0:00:00\u001b[0m\n",
            "\u001b[?25h  Downloading imageio-2.23.0-py3-none-any.whl (3.4 MB)\n",
            "\u001b[2K     \u001b[90m━━━━━━━━━━━━━━━━━━━━━━━━━━━━━━━━━━━━━━━━\u001b[0m \u001b[32m3.4/3.4 MB\u001b[0m \u001b[31m18.8 MB/s\u001b[0m eta \u001b[36m0:00:00\u001b[0m\n",
            "\u001b[?25h  Downloading imageio-2.22.4-py3-none-any.whl (3.4 MB)\n",
            "\u001b[2K     \u001b[90m━━━━━━━━━━━━━━━━━━━━━━━━━━━━━━━━━━━━━━━━\u001b[0m \u001b[32m3.4/3.4 MB\u001b[0m \u001b[31m40.9 MB/s\u001b[0m eta \u001b[36m0:00:00\u001b[0m\n",
            "\u001b[?25h  Downloading imageio-2.22.3-py3-none-any.whl (3.4 MB)\n",
            "\u001b[2K     \u001b[90m━━━━━━━━━━━━━━━━━━━━━━━━━━━━━━━━━━━━━━━━\u001b[0m \u001b[32m3.4/3.4 MB\u001b[0m \u001b[31m24.6 MB/s\u001b[0m eta \u001b[36m0:00:00\u001b[0m\n",
            "\u001b[?25h  Downloading imageio-2.22.2-py3-none-any.whl (3.4 MB)\n",
            "\u001b[2K     \u001b[90m━━━━━━━━━━━━━━━━━━━━━━━━━━━━━━━━━━━━━━━━\u001b[0m \u001b[32m3.4/3.4 MB\u001b[0m \u001b[31m34.8 MB/s\u001b[0m eta \u001b[36m0:00:00\u001b[0m\n",
            "\u001b[?25h  Downloading imageio-2.22.1-py3-none-any.whl (3.4 MB)\n",
            "\u001b[2K     \u001b[90m━━━━━━━━━━━━━━━━━━━━━━━━━━━━━━━━━━━━━━━━\u001b[0m \u001b[32m3.4/3.4 MB\u001b[0m \u001b[31m25.6 MB/s\u001b[0m eta \u001b[36m0:00:00\u001b[0m\n",
            "\u001b[?25h  Downloading imageio-2.22.0-py3-none-any.whl (3.4 MB)\n",
            "\u001b[2K     \u001b[90m━━━━━━━━━━━━━━━━━━━━━━━━━━━━━━━━━━━━━━━━\u001b[0m \u001b[32m3.4/3.4 MB\u001b[0m \u001b[31m52.6 MB/s\u001b[0m eta \u001b[36m0:00:00\u001b[0m\n",
            "\u001b[?25h  Downloading imageio-2.21.3-py3-none-any.whl (3.4 MB)\n",
            "\u001b[2K     \u001b[90m━━━━━━━━━━━━━━━━━━━━━━━━━━━━━━━━━━━━━━━━\u001b[0m \u001b[32m3.4/3.4 MB\u001b[0m \u001b[31m51.8 MB/s\u001b[0m eta \u001b[36m0:00:00\u001b[0m\n",
            "\u001b[?25h  Downloading imageio-2.21.2-py3-none-any.whl (3.4 MB)\n",
            "\u001b[2K     \u001b[90m━━━━━━━━━━━━━━━━━━━━━━━━━━━━━━━━━━━━━━━━\u001b[0m \u001b[32m3.4/3.4 MB\u001b[0m \u001b[31m29.6 MB/s\u001b[0m eta \u001b[36m0:00:00\u001b[0m\n",
            "\u001b[?25h  Downloading imageio-2.21.1-py3-none-any.whl (3.4 MB)\n",
            "\u001b[2K     \u001b[90m━━━━━━━━━━━━━━━━━━━━━━━━━━━━━━━━━━━━━━━━\u001b[0m \u001b[32m3.4/3.4 MB\u001b[0m \u001b[31m17.7 MB/s\u001b[0m eta \u001b[36m0:00:00\u001b[0m\n",
            "\u001b[?25h  Downloading imageio-2.21.0-py3-none-any.whl (3.4 MB)\n",
            "\u001b[2K     \u001b[90m━━━━━━━━━━━━━━━━━━━━━━━━━━━━━━━━━━━━━━━━\u001b[0m \u001b[32m3.4/3.4 MB\u001b[0m \u001b[31m24.0 MB/s\u001b[0m eta \u001b[36m0:00:00\u001b[0m\n",
            "\u001b[?25h  Downloading imageio-2.20.0-py3-none-any.whl (3.4 MB)\n",
            "\u001b[2K     \u001b[90m━━━━━━━━━━━━━━━━━━━━━━━━━━━━━━━━━━━━━━━━\u001b[0m \u001b[32m3.4/3.4 MB\u001b[0m \u001b[31m44.1 MB/s\u001b[0m eta \u001b[36m0:00:00\u001b[0m\n",
            "\u001b[?25h  Downloading imageio-2.19.5-py3-none-any.whl (3.4 MB)\n",
            "\u001b[2K     \u001b[90m━━━━━━━━━━━━━━━━━━━━━━━━━━━━━━━━━━━━━━━━\u001b[0m \u001b[32m3.4/3.4 MB\u001b[0m \u001b[31m52.9 MB/s\u001b[0m eta \u001b[36m0:00:00\u001b[0m\n",
            "\u001b[?25h  Downloading imageio-2.19.3-py3-none-any.whl (3.4 MB)\n",
            "\u001b[2K     \u001b[90m━━━━━━━━━━━━━━━━━━━━━━━━━━━━━━━━━━━━━━━━\u001b[0m \u001b[32m3.4/3.4 MB\u001b[0m \u001b[31m41.5 MB/s\u001b[0m eta \u001b[36m0:00:00\u001b[0m\n",
            "\u001b[?25h  Downloading imageio-2.19.2-py3-none-any.whl (3.4 MB)\n",
            "\u001b[2K     \u001b[90m━━━━━━━━━━━━━━━━━━━━━━━━━━━━━━━━━━━━━━━━\u001b[0m \u001b[32m3.4/3.4 MB\u001b[0m \u001b[31m20.9 MB/s\u001b[0m eta \u001b[36m0:00:00\u001b[0m\n",
            "\u001b[?25h  Downloading imageio-2.19.1-py3-none-any.whl (3.4 MB)\n",
            "\u001b[2K     \u001b[90m━━━━━━━━━━━━━━━━━━━━━━━━━━━━━━━━━━━━━━━━\u001b[0m \u001b[32m3.4/3.4 MB\u001b[0m \u001b[31m33.6 MB/s\u001b[0m eta \u001b[36m0:00:00\u001b[0m\n",
            "\u001b[?25h  Downloading imageio-2.19.0-py3-none-any.whl (3.4 MB)\n",
            "\u001b[2K     \u001b[90m━━━━━━━━━━━━━━━━━━━━━━━━━━━━━━━━━━━━━━━━\u001b[0m \u001b[32m3.4/3.4 MB\u001b[0m \u001b[31m17.6 MB/s\u001b[0m eta \u001b[36m0:00:00\u001b[0m\n",
            "\u001b[?25h  Downloading imageio-2.18.0-py3-none-any.whl (3.4 MB)\n",
            "\u001b[2K     \u001b[90m━━━━━━━━━━━━━━━━━━━━━━━━━━━━━━━━━━━━━━━━\u001b[0m \u001b[32m3.4/3.4 MB\u001b[0m \u001b[31m50.2 MB/s\u001b[0m eta \u001b[36m0:00:00\u001b[0m\n",
            "\u001b[?25h  Downloading imageio-2.17.0-py3-none-any.whl (3.4 MB)\n",
            "\u001b[2K     \u001b[90m━━━━━━━━━━━━━━━━━━━━━━━━━━━━━━━━━━━━━━━━\u001b[0m \u001b[32m3.4/3.4 MB\u001b[0m \u001b[31m26.3 MB/s\u001b[0m eta \u001b[36m0:00:00\u001b[0m\n",
            "\u001b[?25h  Downloading imageio-2.16.2-py3-none-any.whl (3.3 MB)\n",
            "\u001b[2K     \u001b[90m━━━━━━━━━━━━━━━━━━━━━━━━━━━━━━━━━━━━━━━━\u001b[0m \u001b[32m3.3/3.3 MB\u001b[0m \u001b[31m46.8 MB/s\u001b[0m eta \u001b[36m0:00:00\u001b[0m\n",
            "\u001b[?25h  Downloading imageio-2.16.1-py3-none-any.whl (3.3 MB)\n",
            "\u001b[2K     \u001b[90m━━━━━━━━━━━━━━━━━━━━━━━━━━━━━━━━━━━━━━━━\u001b[0m \u001b[32m3.3/3.3 MB\u001b[0m \u001b[31m51.8 MB/s\u001b[0m eta \u001b[36m0:00:00\u001b[0m\n",
            "\u001b[?25h  Downloading imageio-2.15.0-py3-none-any.whl (3.3 MB)\n",
            "\u001b[2K     \u001b[90m━━━━━━━━━━━━━━━━━━━━━━━━━━━━━━━━━━━━━━━━\u001b[0m \u001b[32m3.3/3.3 MB\u001b[0m \u001b[31m51.1 MB/s\u001b[0m eta \u001b[36m0:00:00\u001b[0m\n",
            "\u001b[?25h  Downloading imageio-2.14.1-py3-none-any.whl (3.3 MB)\n",
            "\u001b[2K     \u001b[90m━━━━━━━━━━━━━━━━━━━━━━━━━━━━━━━━━━━━━━━━\u001b[0m \u001b[32m3.3/3.3 MB\u001b[0m \u001b[31m52.5 MB/s\u001b[0m eta \u001b[36m0:00:00\u001b[0m\n",
            "\u001b[?25h  Downloading imageio-2.14.0-py3-none-any.whl (3.3 MB)\n",
            "\u001b[2K     \u001b[90m━━━━━━━━━━━━━━━━━━━━━━━━━━━━━━━━━━━━━━━━\u001b[0m \u001b[32m3.3/3.3 MB\u001b[0m \u001b[31m48.3 MB/s\u001b[0m eta \u001b[36m0:00:00\u001b[0m\n",
            "\u001b[?25h  Downloading imageio-2.13.5-py3-none-any.whl (3.3 MB)\n",
            "\u001b[2K     \u001b[90m━━━━━━━━━━━━━━━━━━━━━━━━━━━━━━━━━━━━━━━━\u001b[0m \u001b[32m3.3/3.3 MB\u001b[0m \u001b[31m52.6 MB/s\u001b[0m eta \u001b[36m0:00:00\u001b[0m\n",
            "\u001b[?25h  Downloading imageio-2.13.4-py3-none-any.whl (3.3 MB)\n",
            "\u001b[2K     \u001b[90m━━━━━━━━━━━━━━━━━━━━━━━━━━━━━━━━━━━━━━━━\u001b[0m \u001b[32m3.3/3.3 MB\u001b[0m \u001b[31m46.8 MB/s\u001b[0m eta \u001b[36m0:00:00\u001b[0m\n",
            "\u001b[?25h  Downloading imageio-2.13.3-py3-none-any.whl (3.3 MB)\n",
            "\u001b[2K     \u001b[90m━━━━━━━━━━━━━━━━━━━━━━━━━━━━━━━━━━━━━━━━\u001b[0m \u001b[32m3.3/3.3 MB\u001b[0m \u001b[31m53.1 MB/s\u001b[0m eta \u001b[36m0:00:00\u001b[0m\n",
            "\u001b[?25h  Downloading imageio-2.13.2-py3-none-any.whl (3.3 MB)\n",
            "\u001b[2K     \u001b[90m━━━━━━━━━━━━━━━━━━━━━━━━━━━━━━━━━━━━━━━━\u001b[0m \u001b[32m3.3/3.3 MB\u001b[0m \u001b[31m51.0 MB/s\u001b[0m eta \u001b[36m0:00:00\u001b[0m\n",
            "\u001b[?25h  Downloading imageio-2.13.1-py3-none-any.whl (3.3 MB)\n",
            "\u001b[2K     \u001b[90m━━━━━━━━━━━━━━━━━━━━━━━━━━━━━━━━━━━━━━━━\u001b[0m \u001b[32m3.3/3.3 MB\u001b[0m \u001b[31m53.6 MB/s\u001b[0m eta \u001b[36m0:00:00\u001b[0m\n",
            "\u001b[?25h  Downloading imageio-2.13.0-py3-none-any.whl (3.3 MB)\n",
            "\u001b[2K     \u001b[90m━━━━━━━━━━━━━━━━━━━━━━━━━━━━━━━━━━━━━━━━\u001b[0m \u001b[32m3.3/3.3 MB\u001b[0m \u001b[31m9.7 MB/s\u001b[0m eta \u001b[36m0:00:00\u001b[0m\n",
            "\u001b[?25h  Downloading imageio-2.12.0-py3-none-any.whl (3.3 MB)\n",
            "\u001b[2K     \u001b[90m━━━━━━━━━━━━━━━━━━━━━━━━━━━━━━━━━━━━━━━━\u001b[0m \u001b[32m3.3/3.3 MB\u001b[0m \u001b[31m44.3 MB/s\u001b[0m eta \u001b[36m0:00:00\u001b[0m\n",
            "\u001b[?25h  Downloading imageio-2.11.1-py3-none-any.whl (3.3 MB)\n",
            "\u001b[2K     \u001b[90m━━━━━━━━━━━━━━━━━━━━━━━━━━━━━━━━━━━━━━━━\u001b[0m \u001b[32m3.3/3.3 MB\u001b[0m \u001b[31m29.6 MB/s\u001b[0m eta \u001b[36m0:00:00\u001b[0m\n",
            "\u001b[?25h  Downloading imageio-2.11.0-py3-none-any.whl (3.3 MB)\n",
            "\u001b[2K     \u001b[90m━━━━━━━━━━━━━━━━━━━━━━━━━━━━━━━━━━━━━━━━\u001b[0m \u001b[32m3.3/3.3 MB\u001b[0m \u001b[31m39.4 MB/s\u001b[0m eta \u001b[36m0:00:00\u001b[0m\n",
            "\u001b[?25h  Downloading imageio-2.10.5-py3-none-any.whl (3.3 MB)\n",
            "\u001b[2K     \u001b[90m━━━━━━━━━━━━━━━━━━━━━━━━━━━━━━━━━━━━━━━━\u001b[0m \u001b[32m3.3/3.3 MB\u001b[0m \u001b[31m53.1 MB/s\u001b[0m eta \u001b[36m0:00:00\u001b[0m\n",
            "\u001b[?25h  Downloading imageio-2.10.4-py3-none-any.whl (3.3 MB)\n",
            "\u001b[2K     \u001b[90m━━━━━━━━━━━━━━━━━━━━━━━━━━━━━━━━━━━━━━━━\u001b[0m \u001b[32m3.3/3.3 MB\u001b[0m \u001b[31m53.5 MB/s\u001b[0m eta \u001b[36m0:00:00\u001b[0m\n",
            "\u001b[?25h  Downloading imageio-2.10.3-py3-none-any.whl (3.3 MB)\n",
            "\u001b[2K     \u001b[90m━━━━━━━━━━━━━━━━━━━━━━━━━━━━━━━━━━━━━━━━\u001b[0m \u001b[32m3.3/3.3 MB\u001b[0m \u001b[31m24.4 MB/s\u001b[0m eta \u001b[36m0:00:00\u001b[0m\n",
            "\u001b[?25h  Downloading imageio-2.10.2-py3-none-any.whl (3.3 MB)\n",
            "\u001b[2K     \u001b[90m━━━━━━━━━━━━━━━━━━━━━━━━━━━━━━━━━━━━━━━━\u001b[0m \u001b[32m3.3/3.3 MB\u001b[0m \u001b[31m55.2 MB/s\u001b[0m eta \u001b[36m0:00:00\u001b[0m\n",
            "\u001b[?25h  Downloading imageio-2.10.1-py3-none-any.whl (3.3 MB)\n",
            "\u001b[2K     \u001b[90m━━━━━━━━━━━━━━━━━━━━━━━━━━━━━━━━━━━━━━━━\u001b[0m \u001b[32m3.3/3.3 MB\u001b[0m \u001b[31m63.9 MB/s\u001b[0m eta \u001b[36m0:00:00\u001b[0m\n",
            "\u001b[?25h  Downloading imageio-2.9.0-py3-none-any.whl (3.3 MB)\n",
            "\u001b[2K     \u001b[90m━━━━━━━━━━━━━━━━━━━━━━━━━━━━━━━━━━━━━━━━\u001b[0m \u001b[32m3.3/3.3 MB\u001b[0m \u001b[31m42.8 MB/s\u001b[0m eta \u001b[36m0:00:00\u001b[0m\n",
            "\u001b[?25hRequirement already satisfied: markupsafe in /usr/local/lib/python3.9/dist-packages (from piglet-templates->piglet) (2.1.2)\n",
            "Requirement already satisfied: astunparse in /usr/local/lib/python3.9/dist-packages (from piglet-templates->piglet) (1.6.3)\n",
            "Requirement already satisfied: pyparsing in /usr/local/lib/python3.9/dist-packages (from piglet-templates->piglet) (3.0.9)\n",
            "Requirement already satisfied: attrs in /usr/local/lib/python3.9/dist-packages (from piglet-templates->piglet) (22.2.0)\n",
            "Requirement already satisfied: pycparser in /usr/local/lib/python3.9/dist-packages (from cffi>=1.10->mujoco_py<2.0,>=1.50->gym[all]==0.18.3) (2.21)\n",
            "Requirement already satisfied: wheel<1.0,>=0.23.0 in /usr/local/lib/python3.9/dist-packages (from astunparse->piglet-templates->piglet) (0.40.0)\n",
            "Building wheels for collected packages: box2d-py, mujoco_py, gym\n",
            "  \u001b[1;31merror\u001b[0m: \u001b[1msubprocess-exited-with-error\u001b[0m\n",
            "  \n",
            "  \u001b[31m×\u001b[0m \u001b[32mpython setup.py bdist_wheel\u001b[0m did not run successfully.\n",
            "  \u001b[31m│\u001b[0m exit code: \u001b[1;36m1\u001b[0m\n",
            "  \u001b[31m╰─>\u001b[0m See above for output.\n",
            "  \n",
            "  \u001b[1;35mnote\u001b[0m: This error originates from a subprocess, and is likely not a problem with pip.\n",
            "  Building wheel for box2d-py (setup.py) ... \u001b[?25lerror\n",
            "\u001b[31m  ERROR: Failed building wheel for box2d-py\u001b[0m\u001b[31m\n",
            "\u001b[0m\u001b[?25h  Running setup.py clean for box2d-py\n",
            "  \u001b[1;31merror\u001b[0m: \u001b[1msubprocess-exited-with-error\u001b[0m\n",
            "  \n",
            "  \u001b[31m×\u001b[0m \u001b[32mpython setup.py bdist_wheel\u001b[0m did not run successfully.\n",
            "  \u001b[31m│\u001b[0m exit code: \u001b[1;36m1\u001b[0m\n",
            "  \u001b[31m╰─>\u001b[0m See above for output.\n",
            "  \n",
            "  \u001b[1;35mnote\u001b[0m: This error originates from a subprocess, and is likely not a problem with pip.\n",
            "  Building wheel for mujoco_py (setup.py) ... \u001b[?25lerror\n",
            "\u001b[31m  ERROR: Failed building wheel for mujoco_py\u001b[0m\u001b[31m\n",
            "\u001b[0m\u001b[?25h  Running setup.py clean for mujoco_py\n",
            "  \u001b[1;31merror\u001b[0m: \u001b[1msubprocess-exited-with-error\u001b[0m\n",
            "  \n",
            "  \u001b[31m×\u001b[0m \u001b[32mpython setup.py bdist_wheel\u001b[0m did not run successfully.\n",
            "  \u001b[31m│\u001b[0m exit code: \u001b[1;36m1\u001b[0m\n",
            "  \u001b[31m╰─>\u001b[0m See above for output.\n",
            "  \n",
            "  \u001b[1;35mnote\u001b[0m: This error originates from a subprocess, and is likely not a problem with pip.\n",
            "  Building wheel for gym (setup.py) ... \u001b[?25lerror\n",
            "\u001b[31m  ERROR: Failed building wheel for gym\u001b[0m\u001b[31m\n",
            "\u001b[0m\u001b[?25h  Running setup.py clean for gym\n",
            "Failed to build box2d-py mujoco_py gym\n",
            "Installing collected packages: pyvirtualdisplay, pyglet, lockfile, glfw, box2d-py, Pillow, cloudpickle, atari_py, piglet-templates, imageio, gym, piglet, mujoco_py\n",
            "  \u001b[1;31merror\u001b[0m: \u001b[1msubprocess-exited-with-error\u001b[0m\n",
            "  \n",
            "  \u001b[31m×\u001b[0m \u001b[32mRunning setup.py install for box2d-py\u001b[0m did not run successfully.\n",
            "  \u001b[31m│\u001b[0m exit code: \u001b[1;36m1\u001b[0m\n",
            "  \u001b[31m╰─>\u001b[0m See above for output.\n",
            "  \n",
            "  \u001b[1;35mnote\u001b[0m: This error originates from a subprocess, and is likely not a problem with pip.\n",
            "  Running setup.py install for box2d-py ... \u001b[?25l\u001b[?25herror\n",
            "\u001b[1;31merror\u001b[0m: \u001b[1mlegacy-install-failure\u001b[0m\n",
            "\n",
            "\u001b[31m×\u001b[0m Encountered error while trying to install package.\n",
            "\u001b[31m╰─>\u001b[0m box2d-py\n",
            "\n",
            "\u001b[1;35mnote\u001b[0m: This is an issue with the package mentioned above, not pip.\n",
            "\u001b[1;36mhint\u001b[0m: See above for output from the failure.\n"
          ]
        }
      ],
      "source": [
        "# Для корректной работы ноутбука может понадобиться исполнение следующих команд\n",
        "# (инструкция для Unix-подобных систем):\n",
        "!apt-get install -y xvfb x11-utils ffmpeg libav-tools python-opengl\n",
        "!pip install piglet pyvirtualdisplay gym[all]==0.18.3"
      ]
    },
    {
      "cell_type": "code",
      "execution_count": 2,
      "metadata": {
        "ExecuteTime": {
          "end_time": "2019-09-18T14:49:08.272254Z",
          "start_time": "2019-09-18T14:49:08.268020Z"
        },
        "run_control": {
          "frozen": false,
          "read_only": false
        },
        "colab": {
          "base_uri": "https://localhost:8080/"
        },
        "id": "sTXoqsdZYWHR",
        "outputId": "869e9595-eb31-4702-8922-b356f44e8dd3"
      },
      "outputs": [
        {
          "output_type": "stream",
          "name": "stdout",
          "text": [
            "--2023-03-21 18:19:04--  https://bit.ly/2FMJP5K\n",
            "Resolving bit.ly (bit.ly)... 67.199.248.10, 67.199.248.11\n",
            "Connecting to bit.ly (bit.ly)|67.199.248.10|:443... connected.\n",
            "HTTP request sent, awaiting response... 301 Moved Permanently\n",
            "Location: https://raw.githubusercontent.com/yandexdataschool/Practical_RL/spring19/setup_colab.sh [following]\n",
            "--2023-03-21 18:19:05--  https://raw.githubusercontent.com/yandexdataschool/Practical_RL/spring19/setup_colab.sh\n",
            "Resolving raw.githubusercontent.com (raw.githubusercontent.com)... 185.199.110.133, 185.199.111.133, 185.199.108.133, ...\n",
            "Connecting to raw.githubusercontent.com (raw.githubusercontent.com)|185.199.110.133|:443... connected.\n",
            "HTTP request sent, awaiting response... 200 OK\n",
            "Length: 262 [text/plain]\n",
            "Saving to: ‘setup.py’\n",
            "\n",
            "\rsetup.py              0%[                    ]       0  --.-KB/s               \rsetup.py            100%[===================>]     262  --.-KB/s    in 0s      \n",
            "\n",
            "2023-03-21 18:19:05 (9.54 MB/s) - ‘setup.py’ saved [262/262]\n",
            "\n",
            "Looking in indexes: https://pypi.org/simple, https://us-python.pkg.dev/colab-wheels/public/simple/\n",
            "Requirement already satisfied: gym in /usr/local/lib/python3.9/dist-packages (0.25.2)\n",
            "Requirement already satisfied: cloudpickle>=1.2.0 in /usr/local/lib/python3.9/dist-packages (from gym) (2.2.1)\n",
            "Requirement already satisfied: numpy>=1.18.0 in /usr/local/lib/python3.9/dist-packages (from gym) (1.22.4)\n",
            "Requirement already satisfied: importlib-metadata>=4.8.0 in /usr/local/lib/python3.9/dist-packages (from gym) (6.0.0)\n",
            "Requirement already satisfied: gym-notices>=0.0.4 in /usr/local/lib/python3.9/dist-packages (from gym) (0.0.8)\n",
            "Requirement already satisfied: zipp>=0.5 in /usr/local/lib/python3.9/dist-packages (from importlib-metadata>=4.8.0->gym) (3.15.0)\n",
            "Reading package lists... Done\n",
            "Building dependency tree       \n",
            "Reading state information... Done\n",
            "The following NEW packages will be installed:\n",
            "  xvfb\n",
            "0 upgraded, 1 newly installed, 0 to remove and 23 not upgraded.\n",
            "Need to get 780 kB of archives.\n",
            "After this operation, 2,271 kB of additional disk space will be used.\n",
            "Get:1 http://archive.ubuntu.com/ubuntu focal-updates/universe amd64 xvfb amd64 2:1.20.13-1ubuntu1~20.04.6 [780 kB]\n",
            "Fetched 780 kB in 1s (1,126 kB/s)\n",
            "Selecting previously unselected package xvfb.\n",
            "(Reading database ... 128276 files and directories currently installed.)\n",
            "Preparing to unpack .../xvfb_2%3a1.20.13-1ubuntu1~20.04.6_amd64.deb ...\n",
            "Unpacking xvfb (2:1.20.13-1ubuntu1~20.04.6) ...\n",
            "Setting up xvfb (2:1.20.13-1ubuntu1~20.04.6) ...\n",
            "Processing triggers for man-db (2.9.1-1) ...\n",
            "--2023-03-21 18:19:18--  https://raw.githubusercontent.com/yandexdataschool/Practical_DL/fall18/xvfb\n",
            "Resolving raw.githubusercontent.com (raw.githubusercontent.com)... 185.199.108.133, 185.199.110.133, 185.199.109.133, ...\n",
            "Connecting to raw.githubusercontent.com (raw.githubusercontent.com)|185.199.108.133|:443... connected.\n",
            "HTTP request sent, awaiting response... 200 OK\n",
            "Length: 640 [text/plain]\n",
            "Saving to: ‘../xvfb’\n",
            "\n",
            "../xvfb             100%[===================>]     640  --.-KB/s    in 0s      \n",
            "\n",
            "2023-03-21 18:19:18 (28.5 MB/s) - ‘../xvfb’ saved [640/640]\n",
            "\n",
            "Reading package lists... Done\n",
            "Building dependency tree       \n",
            "Reading state information... Done\n",
            "ffmpeg is already the newest version (7:4.2.7-0ubuntu0.1).\n",
            "The following additional packages will be installed:\n",
            "  freeglut3 libpython2-stdlib python2 python2-minimal\n",
            "Suggested packages:\n",
            "  python-tk python-numpy libgle3 python2-doc\n",
            "The following NEW packages will be installed:\n",
            "  freeglut3 libpython2-stdlib python-opengl python2 python2-minimal\n",
            "0 upgraded, 5 newly installed, 0 to remove and 23 not upgraded.\n",
            "Need to get 621 kB of archives.\n",
            "After this operation, 6,059 kB of additional disk space will be used.\n",
            "Get:1 http://archive.ubuntu.com/ubuntu focal/universe amd64 python2-minimal amd64 2.7.17-2ubuntu4 [27.5 kB]\n",
            "Get:2 http://archive.ubuntu.com/ubuntu focal/universe amd64 libpython2-stdlib amd64 2.7.17-2ubuntu4 [7,072 B]\n",
            "Get:3 http://archive.ubuntu.com/ubuntu focal/universe amd64 python2 amd64 2.7.17-2ubuntu4 [26.5 kB]\n",
            "Get:4 http://archive.ubuntu.com/ubuntu focal/universe amd64 freeglut3 amd64 2.8.1-3 [73.6 kB]\n",
            "Get:5 http://archive.ubuntu.com/ubuntu focal/universe amd64 python-opengl all 3.1.0+dfsg-2build1 [486 kB]\n",
            "Fetched 621 kB in 1s (1,088 kB/s)\n",
            "Selecting previously unselected package python2-minimal.\n",
            "(Reading database ... 128283 files and directories currently installed.)\n",
            "Preparing to unpack .../python2-minimal_2.7.17-2ubuntu4_amd64.deb ...\n",
            "Unpacking python2-minimal (2.7.17-2ubuntu4) ...\n",
            "Selecting previously unselected package libpython2-stdlib:amd64.\n",
            "Preparing to unpack .../libpython2-stdlib_2.7.17-2ubuntu4_amd64.deb ...\n",
            "Unpacking libpython2-stdlib:amd64 (2.7.17-2ubuntu4) ...\n",
            "Setting up python2-minimal (2.7.17-2ubuntu4) ...\n",
            "Selecting previously unselected package python2.\n",
            "(Reading database ... 128312 files and directories currently installed.)\n",
            "Preparing to unpack .../python2_2.7.17-2ubuntu4_amd64.deb ...\n",
            "Unpacking python2 (2.7.17-2ubuntu4) ...\n",
            "Selecting previously unselected package freeglut3:amd64.\n",
            "Preparing to unpack .../freeglut3_2.8.1-3_amd64.deb ...\n",
            "Unpacking freeglut3:amd64 (2.8.1-3) ...\n",
            "Selecting previously unselected package python-opengl.\n",
            "Preparing to unpack .../python-opengl_3.1.0+dfsg-2build1_all.deb ...\n",
            "Unpacking python-opengl (3.1.0+dfsg-2build1) ...\n",
            "Setting up freeglut3:amd64 (2.8.1-3) ...\n",
            "Setting up libpython2-stdlib:amd64 (2.7.17-2ubuntu4) ...\n",
            "Setting up python2 (2.7.17-2ubuntu4) ...\n",
            "Setting up python-opengl (3.1.0+dfsg-2build1) ...\n",
            "Processing triggers for man-db (2.9.1-1) ...\n",
            "Processing triggers for libc-bin (2.31-0ubuntu9.9) ...\n",
            "Looking in indexes: https://pypi.org/simple, https://us-python.pkg.dev/colab-wheels/public/simple/\n",
            "Collecting pyglet==1.2.4\n",
            "  Downloading pyglet-1.2.4-py3-none-any.whl (964 kB)\n",
            "\u001b[2K     \u001b[90m━━━━━━━━━━━━━━━━━━━━━━━━━━━━━━━━━━━━━━\u001b[0m \u001b[32m964.6/964.6 KB\u001b[0m \u001b[31m22.8 MB/s\u001b[0m eta \u001b[36m0:00:00\u001b[0m\n",
            "\u001b[?25hInstalling collected packages: pyglet\n",
            "  Attempting uninstall: pyglet\n",
            "    Found existing installation: pyglet 1.5.15\n",
            "    Uninstalling pyglet-1.5.15:\n",
            "      Successfully uninstalled pyglet-1.5.15\n",
            "Successfully installed pyglet-1.2.4\n",
            "Looking in indexes: https://pypi.org/simple, https://us-python.pkg.dev/colab-wheels/public/simple/\n",
            "Collecting gym[classic_control]==0.18.3\n",
            "  Using cached gym-0.18.3.tar.gz (1.6 MB)\n",
            "  Preparing metadata (setup.py) ... \u001b[?25l\u001b[?25hdone\n",
            "Requirement already satisfied: scipy in /usr/local/lib/python3.9/dist-packages (from gym[classic_control]==0.18.3) (1.10.1)\n",
            "Requirement already satisfied: numpy>=1.10.4 in /usr/local/lib/python3.9/dist-packages (from gym[classic_control]==0.18.3) (1.22.4)\n",
            "Collecting pyglet<=1.5.15,>=1.4.0\n",
            "  Using cached pyglet-1.5.15-py3-none-any.whl (1.1 MB)\n",
            "Collecting Pillow<=8.2.0\n",
            "  Using cached Pillow-8.2.0-cp39-cp39-manylinux1_x86_64.whl (3.0 MB)\n",
            "Collecting cloudpickle<1.7.0,>=1.2.0\n",
            "  Using cached cloudpickle-1.6.0-py3-none-any.whl (23 kB)\n",
            "Building wheels for collected packages: gym\n",
            "  \u001b[1;31merror\u001b[0m: \u001b[1msubprocess-exited-with-error\u001b[0m\n",
            "  \n",
            "  \u001b[31m×\u001b[0m \u001b[32mpython setup.py bdist_wheel\u001b[0m did not run successfully.\n",
            "  \u001b[31m│\u001b[0m exit code: \u001b[1;36m1\u001b[0m\n",
            "  \u001b[31m╰─>\u001b[0m See above for output.\n",
            "  \n",
            "  \u001b[1;35mnote\u001b[0m: This error originates from a subprocess, and is likely not a problem with pip.\n",
            "  Building wheel for gym (setup.py) ... \u001b[?25lerror\n",
            "\u001b[31m  ERROR: Failed building wheel for gym\u001b[0m\u001b[31m\n",
            "\u001b[0m\u001b[?25h  Running setup.py clean for gym\n",
            "Failed to build gym\n",
            "Installing collected packages: pyglet, Pillow, cloudpickle, gym\n",
            "  Attempting uninstall: pyglet\n",
            "    Found existing installation: pyglet 1.2.4\n",
            "    Uninstalling pyglet-1.2.4:\n",
            "      Successfully uninstalled pyglet-1.2.4\n",
            "  Attempting uninstall: Pillow\n",
            "    Found existing installation: Pillow 8.4.0\n",
            "    Uninstalling Pillow-8.4.0:\n",
            "      Successfully uninstalled Pillow-8.4.0\n",
            "  Attempting uninstall: cloudpickle\n",
            "    Found existing installation: cloudpickle 2.2.1\n",
            "    Uninstalling cloudpickle-2.2.1:\n",
            "      Successfully uninstalled cloudpickle-2.2.1\n",
            "  Attempting uninstall: gym\n",
            "    Found existing installation: gym 0.25.2\n",
            "    Uninstalling gym-0.25.2:\n",
            "      Successfully uninstalled gym-0.25.2\n",
            "  Running setup.py install for gym ... \u001b[?25l\u001b[?25hdone\n",
            "\u001b[33m  DEPRECATION: gym was installed using the legacy 'setup.py install' method, because a wheel could not be built for it. A possible replacement is to fix the wheel build issue reported above. Discussion can be found at https://github.com/pypa/pip/issues/8368\u001b[0m\u001b[33m\n",
            "\u001b[0m\u001b[31mERROR: pip's dependency resolver does not currently take into account all the packages that are installed. This behaviour is the source of the following dependency conflicts.\n",
            "imageio 2.25.1 requires pillow>=8.3.2, but you have pillow 8.2.0 which is incompatible.\u001b[0m\u001b[31m\n",
            "\u001b[0mSuccessfully installed Pillow-8.2.0 cloudpickle-1.6.0 gym-0.18.3 pyglet-1.5.15\n",
            "Starting virtual X frame buffer: Xvfb.\n"
          ]
        }
      ],
      "source": [
        "# В Google Colab раскомментируйте это:\n",
        "!wget https://bit.ly/2FMJP5K -O setup.py && bash setup.py\n",
        "!pip install --upgrade gym[classic_control]==0.18.3\n",
        "# XVFB будет запущен в случае исполнения на сервере\n",
        "import os\n",
        "if type(os.environ.get(\"DISPLAY\")) is not str or len(os.environ.get(\"DISPLAY\")) == 0:\n",
        "    !bash ../xvfb start\n",
        "    os.environ['DISPLAY'] = ':1'"
      ]
    },
    {
      "cell_type": "code",
      "execution_count": 3,
      "metadata": {
        "ExecuteTime": {
          "end_time": "2019-09-18T14:49:15.992701Z",
          "start_time": "2019-09-18T14:49:08.275069Z"
        },
        "run_control": {
          "frozen": false,
          "read_only": false
        },
        "colab": {
          "base_uri": "https://localhost:8080/",
          "height": 309
        },
        "id": "Hr1-hpETYWHS",
        "outputId": "a06bec29-6043-4288-98e9-a9a40683d6c1"
      },
      "outputs": [
        {
          "output_type": "stream",
          "name": "stdout",
          "text": [
            "размерность вектора состояний dim = 4\n",
            "n_actions = 2\n"
          ]
        },
        {
          "output_type": "display_data",
          "data": {
            "text/plain": [
              "<Figure size 432x288 with 1 Axes>"
            ],
            "image/png": "[encoded data removed]"
          },
          "metadata": {}
        }
      ],
      "source": [
        "import gym\n",
        "import numpy as np\n",
        "import matplotlib.pyplot as plt\n",
        "%matplotlib inline\n",
        "import seaborn as sns\n",
        "sns.set(font_scale=1.)\n",
        "\n",
        "# если есть вывод \"<classname> has no attribute .env\", удалите .env или обновите gym\n",
        "env = gym.make(\"CartPole-v1\").env\n",
        "\n",
        "env.reset()\n",
        "n_actions = env.action_space.n\n",
        "state_dim = env.observation_space.shape[0]\n",
        "\n",
        "plt.imshow(env.render(\"rgb_array\"))\n",
        "print(\"размерность вектора состояний dim =\", state_dim)\n",
        "print(\"n_actions =\", n_actions)\n",
        "\n",
        "env.close()"
      ]
    },
    {
      "cell_type": "code",
      "execution_count": 4,
      "metadata": {
        "ExecuteTime": {
          "end_time": "2019-09-18T14:49:15.999558Z",
          "start_time": "2019-09-18T14:49:15.995465Z"
        },
        "run_control": {
          "frozen": false,
          "read_only": false
        },
        "colab": {
          "base_uri": "https://localhost:8080/"
        },
        "id": "aKvCrkI-YWHS",
        "outputId": "aa94ccbd-6a22-4bd8-ff12-5d1851d9597c"
      },
      "outputs": [
        {
          "output_type": "execute_result",
          "data": {
            "text/plain": [
              "(Box(-3.4028234663852886e+38, 3.4028234663852886e+38, (4,), float32),\n",
              " Discrete(2))"
            ]
          },
          "metadata": {},
          "execution_count": 4
        }
      ],
      "source": [
        "env.observation_space, env.action_space"
      ]
    },
    {
      "cell_type": "markdown",
      "metadata": {
        "run_control": {
          "frozen": false,
          "read_only": false
        },
        "id": "ANz6ltalYWHT"
      },
      "source": [
        "# Нейросетевая политика, основная задача (10 баллов)\n",
        "\n",
        "Для текущей задачи будет использована упрощённая нейронная сеть, реализованная в библиотеке __[Scikit-learn](https://scikit-learn.org/stable/modules/generated/sklearn.neural_network.MLPClassifier.html)__. Что для решения задачи понадобится:\n",
        "\n",
        "* `agent.partial_fit(states, actions)` - выполнение одного прохода (одной эпохи) по данным для настройки параметров. В ходе вызова данного метода происходит приближённая максимизация вероятности :actions: при условии :states:\n",
        "* `agent.predict_proba(states)` - оценка вероятностей всех действий, матрица формы __[len(states), n_actions]__\n"
      ]
    },
    {
      "cell_type": "code",
      "execution_count": 5,
      "metadata": {
        "ExecuteTime": {
          "end_time": "2019-09-18T14:49:18.770363Z",
          "start_time": "2019-09-18T14:49:16.001843Z"
        },
        "run_control": {
          "frozen": false,
          "read_only": false
        },
        "colab": {
          "base_uri": "https://localhost:8080/",
          "height": 75
        },
        "id": "U5rW3U8ZYWHT",
        "outputId": "092fa77b-75c7-4264-e272-23a3d2a3cfe0"
      },
      "outputs": [
        {
          "output_type": "execute_result",
          "data": {
            "text/plain": [
              "MLPClassifier(activation='tanh', hidden_layer_sizes=(20, 20))"
            ],
            "text/html": [
              "<style>#sk-container-id-1 {color: black;background-color: white;}#sk-container-id-1 pre{padding: 0;}#sk-container-id-1 div.sk-toggleable {background-color: white;}#sk-container-id-1 label.sk-toggleable__label {cursor: pointer;display: block;width: 100%;margin-bottom: 0;padding: 0.3em;box-sizing: border-box;text-align: center;}#sk-container-id-1 label.sk-toggleable__label-arrow:before {content: \"▸\";float: left;margin-right: 0.25em;color: #696969;}#sk-container-id-1 label.sk-toggleable__label-arrow:hover:before {color: black;}#sk-container-id-1 div.sk-estimator:hover label.sk-toggleable__label-arrow:before {color: black;}#sk-container-id-1 div.sk-toggleable__content {max-height: 0;max-width: 0;overflow: hidden;text-align: left;background-color: #f0f8ff;}#sk-container-id-1 div.sk-toggleable__content pre {margin: 0.2em;color: black;border-radius: 0.25em;background-color: #f0f8ff;}#sk-container-id-1 input.sk-toggleable__control:checked~div.sk-toggleable__content {max-height: 200px;max-width: 100%;overflow: auto;}#sk-container-id-1 input.sk-toggleable__control:checked~label.sk-toggleable__label-arrow:before {content: \"▾\";}#sk-container-id-1 div.sk-estimator input.sk-toggleable__control:checked~label.sk-toggleable__label {background-color: #d4ebff;}#sk-container-id-1 div.sk-label input.sk-toggleable__control:checked~label.sk-toggleable__label {background-color: #d4ebff;}#sk-container-id-1 input.sk-hidden--visually {border: 0;clip: rect(1px 1px 1px 1px);clip: rect(1px, 1px, 1px, 1px);height: 1px;margin: -1px;overflow: hidden;padding: 0;position: absolute;width: 1px;}#sk-container-id-1 div.sk-estimator {font-family: monospace;background-color: #f0f8ff;border: 1px dotted black;border-radius: 0.25em;box-sizing: border-box;margin-bottom: 0.5em;}#sk-container-id-1 div.sk-estimator:hover {background-color: #d4ebff;}#sk-container-id-1 div.sk-parallel-item::after {content: \"\";width: 100%;border-bottom: 1px solid gray;flex-grow: 1;}#sk-container-id-1 div.sk-label:hover label.sk-toggleable__label {background-color: #d4ebff;}#sk-container-id-1 div.sk-serial::before {content: \"\";position: absolute;border-left: 1px solid gray;box-sizing: border-box;top: 0;bottom: 0;left: 50%;z-index: 0;}#sk-container-id-1 div.sk-serial {display: flex;flex-direction: column;align-items: center;background-color: white;padding-right: 0.2em;padding-left: 0.2em;position: relative;}#sk-container-id-1 div.sk-item {position: relative;z-index: 1;}#sk-container-id-1 div.sk-parallel {display: flex;align-items: stretch;justify-content: center;background-color: white;position: relative;}#sk-container-id-1 div.sk-item::before, #sk-container-id-1 div.sk-parallel-item::before {content: \"\";position: absolute;border-left: 1px solid gray;box-sizing: border-box;top: 0;bottom: 0;left: 50%;z-index: -1;}#sk-container-id-1 div.sk-parallel-item {display: flex;flex-direction: column;z-index: 1;position: relative;background-color: white;}#sk-container-id-1 div.sk-parallel-item:first-child::after {align-self: flex-end;width: 50%;}#sk-container-id-1 div.sk-parallel-item:last-child::after {align-self: flex-start;width: 50%;}#sk-container-id-1 div.sk-parallel-item:only-child::after {width: 0;}#sk-container-id-1 div.sk-dashed-wrapped {border: 1px dashed gray;margin: 0 0.4em 0.5em 0.4em;box-sizing: border-box;padding-bottom: 0.4em;background-color: white;}#sk-container-id-1 div.sk-label label {font-family: monospace;font-weight: bold;display: inline-block;line-height: 1.2em;}#sk-container-id-1 div.sk-label-container {text-align: center;}#sk-container-id-1 div.sk-container {/* jupyter's `normalize.less` sets `[hidden] { display: none; }` but bootstrap.min.css set `[hidden] { display: none !important; }` so we also need the `!important` here to be able to override the default hidden behavior on the sphinx rendered scikit-learn.org. See: https://github.com/scikit-learn/scikit-learn/issues/21755 */display: inline-block !important;position: relative;}#sk-container-id-1 div.sk-text-repr-fallback {display: none;}</style><div id=\"sk-container-id-1\" class=\"sk-top-container\"><div class=\"sk-text-repr-fallback\"><pre>MLPClassifier(activation=&#x27;tanh&#x27;, hidden_layer_sizes=(20, 20))</pre><b>In a Jupyter environment, please rerun this cell to show the HTML representation or trust the notebook. <br />On GitHub, the HTML representation is unable to render, please try loading this page with nbviewer.org.</b></div><div class=\"sk-container\" hidden><div class=\"sk-item\"><div class=\"sk-estimator sk-toggleable\"><input class=\"sk-toggleable__control sk-hidden--visually\" id=\"sk-estimator-id-1\" type=\"checkbox\" checked><label for=\"sk-estimator-id-1\" class=\"sk-toggleable__label sk-toggleable__label-arrow\">MLPClassifier</label><div class=\"sk-toggleable__content\"><pre>MLPClassifier(activation=&#x27;tanh&#x27;, hidden_layer_sizes=(20, 20))</pre></div></div></div></div></div>"
            ]
          },
          "metadata": {},
          "execution_count": 5
        }
      ],
      "source": [
        "from sklearn.neural_network import MLPClassifier, MLPRegressor\n",
        "\n",
        "agent = MLPClassifier(\n",
        "    hidden_layer_sizes=(20, 20),\n",
        "    activation='tanh',\n",
        ")\n",
        "\n",
        "# инициализация агента на размерности пространства состояний и пространства действий\n",
        "agent.partial_fit([env.reset()] * n_actions, range(n_actions), range(n_actions))"
      ]
    },
    {
      "cell_type": "code",
      "execution_count": 6,
      "metadata": {
        "ExecuteTime": {
          "end_time": "2019-09-18T14:49:18.800907Z",
          "start_time": "2019-09-18T14:49:18.772874Z"
        },
        "run_control": {
          "frozen": false,
          "read_only": false
        },
        "id": "tw3IAIfEYWHT"
      },
      "outputs": [],
      "source": [
        "def generate_session(agent, t_max=1000, test=False):\n",
        "    \"\"\"\n",
        "    Сыграть отдельный эпизод, используя нейросетевую параметризацию агента.\n",
        "    Останов после :t_max: шагов среды.\n",
        "    \"\"\"\n",
        "    states, actions = [], []\n",
        "    total_reward = 0\n",
        "\n",
        "    s = env.reset()\n",
        "\n",
        "    for t in range(t_max):\n",
        "        \n",
        "        # Используйте модель агента для оценки распределения на действия для текущего состояния :s:\n",
        "        probs = agent.predict_proba(s.reshape(1, -1)).reshape(-1)\n",
        "        assert probs.shape == (n_actions,), \"Нужно получить вектор вероятностей (функция np.reshape в помощь)\"\n",
        "        \n",
        "        # Используйте текущую оценку политики для выбора действия\n",
        "        if test:\n",
        "            # на тестовом прогоне или на валидации используйте\n",
        "            # детерминированную стратегию\n",
        "            a = np.argmax(probs)\n",
        "            # ^-- подсказка: попробуйте функцию np.argmax\n",
        "        else:\n",
        "            # сэмплирование пропорционально политике $\\pi(a|s)$,\n",
        "            # не нужно выбирать детерминированно наиболее вероятное действие\n",
        "            a = np.random.choice(len(probs), p=probs)\n",
        "            # ^-- подсказка: попробуйте функцию np.random.choice\n",
        "\n",
        "        new_s, r, done, info = env.step(a)\n",
        "\n",
        "        # Запись статистики текущего эпизода\n",
        "        states.append(s)\n",
        "        actions.append(a)\n",
        "        total_reward += r\n",
        "\n",
        "        s = new_s\n",
        "        if done:\n",
        "            break\n",
        "    return states, actions, total_reward"
      ]
    },
    {
      "cell_type": "code",
      "execution_count": 7,
      "metadata": {
        "ExecuteTime": {
          "end_time": "2019-09-18T14:49:18.825783Z",
          "start_time": "2019-09-18T14:49:18.804175Z"
        },
        "run_control": {
          "frozen": false,
          "read_only": false
        },
        "colab": {
          "base_uri": "https://localhost:8080/"
        },
        "id": "SvQg4MdJYWHU",
        "outputId": "1abadf94-b15a-4e05-e675-8f8aacb8afea"
      },
      "outputs": [
        {
          "output_type": "stream",
          "name": "stdout",
          "text": [
            "states: [[ 0.0241524  -0.00616832  0.03759726 -0.00240827]\n",
            " [ 0.02402903  0.18839483  0.0375491  -0.28299575]\n",
            " [ 0.02779693  0.38296165  0.03188918 -0.56360342]\n",
            " [ 0.03545616  0.57762197  0.02061711 -0.84607162]\n",
            " [ 0.0470086   0.3822249   0.00369568 -0.5469773 ]]\n",
            "actions: [1, 1, 1, 0, 1]\n",
            "reward: 5.0\n"
          ]
        }
      ],
      "source": [
        "dummy_states, dummy_actions, dummy_reward = generate_session(agent, t_max=5)\n",
        "print(\"states:\", np.stack(dummy_states))\n",
        "print(\"actions:\", dummy_actions)\n",
        "print(\"reward:\", dummy_reward)"
      ]
    },
    {
      "cell_type": "markdown",
      "metadata": {
        "run_control": {
          "frozen": false,
          "read_only": false
        },
        "id": "pYsp8g2lYWHV"
      },
      "source": [
        "### Шаги кросс-энтропийного метода\n",
        "Общая схема кросс-энтропийного метода (CEM) приведена на странице 35 (параграф 2.2.4.) учебного [пособия](https://arxiv.org/pdf/2201.09746.pdf).\n",
        "\n",
        "Глубокий CEM использует точно такую же стратегию, что и обычный CEM.\n",
        "\n",
        "Главное отличие состоит в том, что теперь каждое наблюдение не число, а `float32` вектор."
      ]
    },
    {
      "cell_type": "code",
      "execution_count": 8,
      "metadata": {
        "ExecuteTime": {
          "end_time": "2019-09-18T14:49:18.845899Z",
          "start_time": "2019-09-18T14:49:18.827600Z"
        },
        "run_control": {
          "frozen": false,
          "read_only": false
        },
        "id": "T7Z_ElfxYWHV"
      },
      "outputs": [],
      "source": [
        "def select_elites(states_batch, actions_batch, rewards_batch, percentile=50):\n",
        "    \"\"\"\n",
        "    Выбрать states и actions из игр с rewards >= percentile\n",
        "    :param states_batch: list of lists of states, states_batch[session_i][t]\n",
        "    :param actions_batch: list of lists of actions, actions_batch[session_i][t]\n",
        "    :param rewards_batch: list of rewards, rewards_batch[session_i]\n",
        "\n",
        "    :returns: elite_states,elite_actions, оба 1D lists of states и actions из наилучших эпизодов\n",
        "\n",
        "    Просьба сохранять порядок elite states и actions \n",
        "    [то есть сортированы по номерам эпизодов и в хронологическом порядке в каждом эпизоде]\n",
        "\n",
        "    Просьба не считать по умолчанию states как целочисленные значения\n",
        "    (они позже примут другой формат).\n",
        "    \"\"\"\n",
        "\n",
        "    top_rewards = np.percentile(rewards_batch, percentile)\n",
        "    elite_actions, elite_states = [], []\n",
        "\n",
        "    for session_i in range(len(states_batch)):\n",
        "      if rewards_batch[session_i] >= top_rewards:\n",
        "        elite_states.extend(states_batch[session_i])\n",
        "        elite_actions.extend(actions_batch[session_i])\n",
        "        \n",
        "    # Заметим, что это отличается от табличного случая.\n",
        "    # Теперь наша нейронная сеть обучается на одном объекте с входной размерностью `(1, n_states)`.\n",
        "    # То есть следует использовать `np.squeeze`, чтобы избавиться от ведущего измерения в `select_elites`.\n",
        "    \n",
        "    elite_states = np.squeeze(elite_states)\n",
        "    elite_actions = np.squeeze(elite_actions)\n",
        "    \n",
        "    return elite_states, elite_actions"
      ]
    },
    {
      "cell_type": "markdown",
      "metadata": {
        "run_control": {
          "frozen": false,
          "read_only": false
        },
        "id": "oDkGMFvjYWHW"
      },
      "source": [
        "# Цикл обучения\n",
        "Генерация эпизодов, выбор N лучших и обучение на них."
      ]
    },
    {
      "cell_type": "code",
      "execution_count": 9,
      "metadata": {
        "ExecuteTime": {
          "end_time": "2019-09-18T14:49:18.868655Z",
          "start_time": "2019-09-18T14:49:18.848299Z"
        },
        "run_control": {
          "frozen": false,
          "read_only": false
        },
        "id": "U3BdYLBdYWHW"
      },
      "outputs": [],
      "source": [
        "from IPython.display import clear_output\n",
        "\n",
        "def show_progress(rewards_batch, log, percentile, reward_range=[-990, +10]):\n",
        "    \"\"\"\n",
        "    Функция-помощник, которая визуализирует процесс обучения.\n",
        "    Никакой крутой математики здесь нет, только построение графиков.\n",
        "    \"\"\"\n",
        "\n",
        "    mean_reward = np.mean(rewards_batch)\n",
        "    threshold = np.percentile(rewards_batch, percentile)\n",
        "    log.append([mean_reward, threshold])\n",
        "\n",
        "    print(\"средняя награда = %.3f, порог=%.3f\" % (mean_reward, threshold))\n",
        "    plt.figure(figsize=[8, 4])\n",
        "    plt.subplot(1, 2, 1)\n",
        "    plt.plot(list(zip(*log))[0], label='Средние награды')\n",
        "    plt.plot(list(zip(*log))[1], label='Пороги наград')\n",
        "    plt.legend()\n",
        "    plt.grid()\n",
        "\n",
        "    plt.subplot(1, 2, 2)\n",
        "    plt.hist(rewards_batch, range=reward_range)\n",
        "    plt.vlines([np.percentile(rewards_batch, percentile)],\n",
        "               [0], [100], label=\"перцентиль\", color='red')\n",
        "    plt.legend()\n",
        "    plt.grid()\n",
        "\n",
        "    clear_output(True)\n",
        "    plt.show()"
      ]
    },
    {
      "cell_type": "code",
      "execution_count": 10,
      "metadata": {
        "ExecuteTime": {
          "end_time": "2019-09-18T15:04:30.103876Z",
          "start_time": "2019-09-18T14:49:18.873681Z"
        },
        "run_control": {
          "frozen": false,
          "read_only": false
        },
        "colab": {
          "base_uri": "https://localhost:8080/",
          "height": 429
        },
        "id": "CAJApw9AYWHW",
        "outputId": "4cae07f9-03e9-4439-f725-f02bec319fb8"
      },
      "outputs": [
        {
          "output_type": "display_data",
          "data": {
            "text/plain": [
              "<Figure size 576x288 with 2 Axes>"
            ],
            "image/png": "[encoded data removed]"
          },
          "metadata": {}
        },
        {
          "output_type": "stream",
          "name": "stdout",
          "text": [
            "Вы выиграли! Можете прервать процедуру обучения с помощью сигнала KeyboardInterrupt.\n"
          ]
        },
        {
          "output_type": "error",
          "ename": "KeyboardInterrupt",
          "evalue": "ignored",
          "traceback": [
            "\u001b[0;31m---------------------------------------------------------------------------\u001b[0m",
            "\u001b[0;31mKeyboardInterrupt\u001b[0m                         Traceback (most recent call last)",
            "\u001b[0;32m<timed exec>\u001b[0m in \u001b[0;36m<module>\u001b[0;34m\u001b[0m\n",
            "\u001b[0;31mKeyboardInterrupt\u001b[0m: Победа! Игра окончена на итерации 41!"
          ]
        }
      ],
      "source": [
        "%%time\n",
        "\n",
        "sns.set(font_scale=1.)\n",
        "n_sessions = 100\n",
        "percentile = 70\n",
        "log = []\n",
        "\n",
        "for i in range(100):\n",
        "    print(\"Итерация метода № {}:\".format(i + 1))\n",
        "    # генерация новых эпизодов\n",
        "    sessions = [generate_session(agent) for i in range(n_sessions)]\n",
        "\n",
        "    states_batch, actions_batch, rewards_batch = map(np.array, zip(*sessions))\n",
        "\n",
        "    elite_states, elite_actions = select_elites(states_batch, actions_batch, rewards_batch, percentile)\n",
        "\n",
        "    agent.partial_fit(elite_states, elite_actions)\n",
        "\n",
        "    show_progress(rewards_batch, log, percentile, reward_range=[0, np.max(rewards_batch)])\n",
        "\n",
        "    if np.mean(rewards_batch) > 190:\n",
        "        print(\"Вы выиграли! Можете прервать процедуру обучения с помощью сигнала KeyboardInterrupt.\")\n",
        "        raise KeyboardInterrupt(\"Победа! Игра окончена на итерации {}!\".format(i+1))"
      ]
    },
    {
      "cell_type": "markdown",
      "metadata": {
        "run_control": {
          "frozen": false,
          "read_only": false
        },
        "id": "zOWgG2yUYWHX"
      },
      "source": [
        "# Результаты"
      ]
    },
    {
      "cell_type": "code",
      "execution_count": 11,
      "metadata": {
        "ExecuteTime": {
          "end_time": "2019-09-18T15:04:43.484212Z",
          "start_time": "2019-09-18T15:04:30.106224Z"
        },
        "run_control": {
          "frozen": false,
          "read_only": false
        },
        "id": "uArPHpNSYWHX"
      },
      "outputs": [],
      "source": [
        "# запись эпизодов\n",
        "import gym.wrappers\n",
        "for kind, directory in [(True, \"test\"), (False, \"sample\")]:\n",
        "    env = gym.wrappers.Monitor(gym.make(\"CartPole-v1\"),\n",
        "                               directory=\"videos/CartPole-v1/{}\".format(directory), force=True)\n",
        "    sessions = [generate_session(agent, test=kind) for _ in range(100)]\n",
        "    env.close()"
      ]
    },
    {
      "cell_type": "markdown",
      "metadata": {
        "id": "l5dPc6IfYWHX"
      },
      "source": [
        "Детерминированная политика:"
      ]
    },
    {
      "cell_type": "code",
      "execution_count": 12,
      "metadata": {
        "ExecuteTime": {
          "end_time": "2019-09-18T15:04:43.508057Z",
          "start_time": "2019-09-18T15:04:43.498495Z"
        },
        "run_control": {
          "frozen": false,
          "read_only": false
        },
        "colab": {
          "resources": {
            "http://localhost:8080/videos/CartPole-v1/test/openaigym.video.0.134.video000064.mp4": {
              "data": "CjwhRE9DVFlQRSBodG1sPgo8aHRtbCBsYW5nPWVuPgogIDxtZXRhIGNoYXJzZXQ9dXRmLTg+CiAgPG1ldGEgbmFtZT12aWV3cG9ydCBjb250ZW50PSJpbml0aWFsLXNjYWxlPTEsIG1pbmltdW0tc2NhbGU9MSwgd2lkdGg9ZGV2aWNlLXdpZHRoIj4KICA8dGl0bGU+RXJyb3IgNDA0IChOb3QgRm91bmQpISExPC90aXRsZT4KICA8c3R5bGU+CiAgICAqe21hcmdpbjowO3BhZGRpbmc6MH1odG1sLGNvZGV7Zm9udDoxNXB4LzIycHggYXJpYWwsc2Fucy1zZXJpZn1odG1se2JhY2tncm91bmQ6I2ZmZjtjb2xvcjojMjIyO3BhZGRpbmc6MTVweH1ib2R5e21hcmdpbjo3JSBhdXRvIDA7bWF4LXdpZHRoOjM5MHB4O21pbi1oZWlnaHQ6MTgwcHg7cGFkZGluZzozMHB4IDAgMTVweH0qID4gYm9keXtiYWNrZ3JvdW5kOnVybCgvL3d3dy5nb29nbGUuY29tL2ltYWdlcy9lcnJvcnMvcm9ib3QucG5nKSAxMDAlIDVweCBuby1yZXBlYXQ7cGFkZGluZy1yaWdodDoyMDVweH1we21hcmdpbjoxMXB4IDAgMjJweDtvdmVyZmxvdzpoaWRkZW59aW5ze2NvbG9yOiM3Nzc7dGV4dC1kZWNvcmF0aW9uOm5vbmV9YSBpbWd7Ym9yZGVyOjB9QG1lZGlhIHNjcmVlbiBhbmQgKG1heC13aWR0aDo3NzJweCl7Ym9keXtiYWNrZ3JvdW5kOm5vbmU7bWFyZ2luLXRvcDowO21heC13aWR0aDpub25lO3BhZGRpbmctcmlnaHQ6MH19I2xvZ297YmFja2dyb3VuZDp1cmwoLy93d3cuZ29vZ2xlLmNvbS9pbWFnZXMvbG9nb3MvZXJyb3JwYWdlL2Vycm9yX2xvZ28tMTUweDU0LnBuZykgbm8tcmVwZWF0O21hcmdpbi1sZWZ0Oi01cHh9QG1lZGlhIG9ubHkgc2NyZWVuIGFuZCAobWluLXJlc29sdXRpb246MTkyZHBpKXsjbG9nb3tiYWNrZ3JvdW5kOnVybCgvL3d3dy5nb29nbGUuY29tL2ltYWdlcy9sb2dvcy9lcnJvcnBhZ2UvZXJyb3JfbG9nby0xNTB4NTQtMngucG5nKSBuby1yZXBlYXQgMCUgMCUvMTAwJSAxMDAlOy1tb3otYm9yZGVyLWltYWdlOnVybCgvL3d3dy5nb29nbGUuY29tL2ltYWdlcy9sb2dvcy9lcnJvcnBhZ2UvZXJyb3JfbG9nby0xNTB4NTQtMngucG5nKSAwfX1AbWVkaWEgb25seSBzY3JlZW4gYW5kICgtd2Via2l0LW1pbi1kZXZpY2UtcGl4ZWwtcmF0aW86Mil7I2xvZ297YmFja2dyb3VuZDp1cmwoLy93d3cuZ29vZ2xlLmNvbS9pbWFnZXMvbG9nb3MvZXJyb3JwYWdlL2Vycm9yX2xvZ28tMTUweDU0LTJ4LnBuZykgbm8tcmVwZWF0Oy13ZWJraXQtYmFja2dyb3VuZC1zaXplOjEwMCUgMTAwJX19I2xvZ297ZGlzcGxheTppbmxpbmUtYmxvY2s7aGVpZ2h0OjU0cHg7d2lkdGg6MTUwcHh9CiAgPC9zdHlsZT4KICA8YSBocmVmPS8vd3d3Lmdvb2dsZS5jb20vPjxzcGFuIGlkPWxvZ28gYXJpYS1sYWJlbD1Hb29nbGU+PC9zcGFuPjwvYT4KICA8cD48Yj40MDQuPC9iPiA8aW5zPlRoYXTigJlzIGFuIGVycm9yLjwvaW5zPgogIDxwPiAgPGlucz5UaGF04oCZcyBhbGwgd2Uga25vdy48L2lucz4K",
              "ok": false,
              "headers": [
                [
                  "content-length",
                  "1449"
                ],
                [
                  "content-type",
                  "text/html; charset=utf-8"
                ]
              ],
              "status": 404,
              "status_text": ""
            }
          },
          "base_uri": "https://localhost:8080/",
          "height": 501
        },
        "id": "ZRtF7UUoYWHX",
        "outputId": "9e069a28-0360-47a5-b8da-a0302bc4b410"
      },
      "outputs": [
        {
          "output_type": "execute_result",
          "data": {
            "text/plain": [
              "<IPython.core.display.HTML object>"
            ],
            "text/html": [
              "\n",
              "<video width=\"640\" height=\"480\" controls>\n",
              "  <source src=\"./videos/CartPole-v1/test/openaigym.video.0.134.video000064.mp4\" type=\"video/mp4\">\n",
              "</video>\n"
            ]
          },
          "metadata": {},
          "execution_count": 12
        }
      ],
      "source": [
        "# демонстрация видео\n",
        "from IPython.display import HTML\n",
        "import os\n",
        "\n",
        "video_names = list(\n",
        "    filter(lambda s: s.endswith(\".mp4\"), os.listdir(\"./videos/CartPole-v1/test\")))\n",
        "\n",
        "HTML(\"\"\"\n",
        "<video width=\"640\" height=\"480\" controls>\n",
        "  <source src=\"{}\" type=\"video/mp4\">\n",
        "</video>\n",
        "\"\"\".format(\"./videos/CartPole-v1/test/\"+video_names[-1]))"
      ]
    },
    {
      "cell_type": "markdown",
      "metadata": {
        "id": "sES1sw3DYWHY"
      },
      "source": [
        "Стохастическая политика:"
      ]
    },
    {
      "cell_type": "code",
      "execution_count": 13,
      "metadata": {
        "colab": {
          "resources": {
            "http://localhost:8080/videos/CartPole-v1/sample/openaigym.video.1.134.video000027.mp4": {
              "data": "CjwhRE9DVFlQRSBodG1sPgo8aHRtbCBsYW5nPWVuPgogIDxtZXRhIGNoYXJzZXQ9dXRmLTg+CiAgPG1ldGEgbmFtZT12aWV3cG9ydCBjb250ZW50PSJpbml0aWFsLXNjYWxlPTEsIG1pbmltdW0tc2NhbGU9MSwgd2lkdGg9ZGV2aWNlLXdpZHRoIj4KICA8dGl0bGU+RXJyb3IgNDA0IChOb3QgRm91bmQpISExPC90aXRsZT4KICA8c3R5bGU+CiAgICAqe21hcmdpbjowO3BhZGRpbmc6MH1odG1sLGNvZGV7Zm9udDoxNXB4LzIycHggYXJpYWwsc2Fucy1zZXJpZn1odG1se2JhY2tncm91bmQ6I2ZmZjtjb2xvcjojMjIyO3BhZGRpbmc6MTVweH1ib2R5e21hcmdpbjo3JSBhdXRvIDA7bWF4LXdpZHRoOjM5MHB4O21pbi1oZWlnaHQ6MTgwcHg7cGFkZGluZzozMHB4IDAgMTVweH0qID4gYm9keXtiYWNrZ3JvdW5kOnVybCgvL3d3dy5nb29nbGUuY29tL2ltYWdlcy9lcnJvcnMvcm9ib3QucG5nKSAxMDAlIDVweCBuby1yZXBlYXQ7cGFkZGluZy1yaWdodDoyMDVweH1we21hcmdpbjoxMXB4IDAgMjJweDtvdmVyZmxvdzpoaWRkZW59aW5ze2NvbG9yOiM3Nzc7dGV4dC1kZWNvcmF0aW9uOm5vbmV9YSBpbWd7Ym9yZGVyOjB9QG1lZGlhIHNjcmVlbiBhbmQgKG1heC13aWR0aDo3NzJweCl7Ym9keXtiYWNrZ3JvdW5kOm5vbmU7bWFyZ2luLXRvcDowO21heC13aWR0aDpub25lO3BhZGRpbmctcmlnaHQ6MH19I2xvZ297YmFja2dyb3VuZDp1cmwoLy93d3cuZ29vZ2xlLmNvbS9pbWFnZXMvbG9nb3MvZXJyb3JwYWdlL2Vycm9yX2xvZ28tMTUweDU0LnBuZykgbm8tcmVwZWF0O21hcmdpbi1sZWZ0Oi01cHh9QG1lZGlhIG9ubHkgc2NyZWVuIGFuZCAobWluLXJlc29sdXRpb246MTkyZHBpKXsjbG9nb3tiYWNrZ3JvdW5kOnVybCgvL3d3dy5nb29nbGUuY29tL2ltYWdlcy9sb2dvcy9lcnJvcnBhZ2UvZXJyb3JfbG9nby0xNTB4NTQtMngucG5nKSBuby1yZXBlYXQgMCUgMCUvMTAwJSAxMDAlOy1tb3otYm9yZGVyLWltYWdlOnVybCgvL3d3dy5nb29nbGUuY29tL2ltYWdlcy9sb2dvcy9lcnJvcnBhZ2UvZXJyb3JfbG9nby0xNTB4NTQtMngucG5nKSAwfX1AbWVkaWEgb25seSBzY3JlZW4gYW5kICgtd2Via2l0LW1pbi1kZXZpY2UtcGl4ZWwtcmF0aW86Mil7I2xvZ297YmFja2dyb3VuZDp1cmwoLy93d3cuZ29vZ2xlLmNvbS9pbWFnZXMvbG9nb3MvZXJyb3JwYWdlL2Vycm9yX2xvZ28tMTUweDU0LTJ4LnBuZykgbm8tcmVwZWF0Oy13ZWJraXQtYmFja2dyb3VuZC1zaXplOjEwMCUgMTAwJX19I2xvZ297ZGlzcGxheTppbmxpbmUtYmxvY2s7aGVpZ2h0OjU0cHg7d2lkdGg6MTUwcHh9CiAgPC9zdHlsZT4KICA8YSBocmVmPS8vd3d3Lmdvb2dsZS5jb20vPjxzcGFuIGlkPWxvZ28gYXJpYS1sYWJlbD1Hb29nbGU+PC9zcGFuPjwvYT4KICA8cD48Yj40MDQuPC9iPiA8aW5zPlRoYXTigJlzIGFuIGVycm9yLjwvaW5zPgogIDxwPiAgPGlucz5UaGF04oCZcyBhbGwgd2Uga25vdy48L2lucz4K",
              "ok": false,
              "headers": [
                [
                  "content-length",
                  "1449"
                ],
                [
                  "content-type",
                  "text/html; charset=utf-8"
                ]
              ],
              "status": 404,
              "status_text": ""
            }
          },
          "base_uri": "https://localhost:8080/",
          "height": 501
        },
        "id": "1uzLq2ivYWHZ",
        "outputId": "da392e6b-3f04-4def-dbde-5a94125183c8"
      },
      "outputs": [
        {
          "output_type": "execute_result",
          "data": {
            "text/plain": [
              "<IPython.core.display.HTML object>"
            ],
            "text/html": [
              "\n",
              "<video width=\"640\" height=\"480\" controls>\n",
              "  <source src=\"./videos/CartPole-v1/sample/openaigym.video.1.134.video000027.mp4\" type=\"video/mp4\">\n",
              "</video>\n"
            ]
          },
          "metadata": {},
          "execution_count": 13
        }
      ],
      "source": [
        "video_names = list(\n",
        "    filter(lambda s: s.endswith(\".mp4\"), os.listdir(\"./videos/CartPole-v1/sample\")))\n",
        "\n",
        "HTML(\"\"\"\n",
        "<video width=\"640\" height=\"480\" controls>\n",
        "  <source src=\"{}\" type=\"video/mp4\">\n",
        "</video>\n",
        "\"\"\".format(\"./videos/CartPole-v1/sample/\"+video_names[-1]))"
      ]
    },
    {
      "cell_type": "markdown",
      "metadata": {
        "run_control": {
          "frozen": false,
          "read_only": false
        },
        "id": "kCdFSSaFYWHa"
      },
      "source": [
        "# Дополнительные задания\n",
        "\n",
        "#### дедлайн дополнительного задания: за две недели до официальной даты экзамена, 23:59 GMT+3\n",
        "\n",
        "### Глубокий кросс-энтропийный метод\n",
        "\n",
        "На данный момент у Вас должна быть достаточно хорошая награда в [CartPole-v1](https://www.gymlibrary.dev/environments/classic_control/cart_pole/), чтобы считать основное задание выполненным (см. ссылку). Время попробовать что-нибудь посложнее.\n",
        "\n",
        "### Задания (вплоть до 10 баллов)\n",
        "\n",
        "* __2.1__ Выбрать одну из сред: MountainCar-v0 или LunarLander-v2.\n",
        "  * Для MountainCar, получить среднее вознаграждение __как минимум -150__\n",
        "  * For LunarLander, получить среднее вознаграждение __как минимум +50__\n",
        "\n",
        "Рекомендуем обратить внимание на раздел с советами ниже, это важно.\n",
        "\n",
        "* __2.2__ Разработать способ ускорения обучения хотя бы в два раза по сравнению с версией по умолчанию\n",
        "  * Очевидное улучшение: использовать [joblib](https://www.google.com/search?client=ubuntu&channel=fs&q=joblib&ie=utf-8&oe=utf-8) или multiprocessing\n",
        "  * Попробовать переиспользовать сэмплы из 3-5 последних итераций при вычислении порога и при обучении\n",
        "  * Поэкспериментировать с количеством итераций обучения и шагом метода обучения (learning rate) нейронной сети (смотеть params)\n",
        "  \n",
        "  \n",
        "### Советы\n",
        "* Страница Gym: [MountainCar](https://www.gymlibrary.dev/environments/classic_control/mountain_car/), [LunarLander](https://www.gymlibrary.dev/environments/box2d/lunar_lander/)\n",
        "* Эпизоды в MountainCar могут длиться более 10k+ шагов. Убедитесь, что параметр ```t_max``` не меньше 10k.\n",
        " * Также может быть хорошей идеей строго отбирать награды через \">\", а не \">=\" (strictly_select_elites). Если 90% Ваших эпизодов имеют награду -10k и 20% лучше, тода если Вы используйте перцентиль 20% как порог, R >= порог __не может отклонить неуспешные эпизоды__, в то время как R > справляется с этим корректно.\n",
        "* _проблема сред gym_: некоторые версии gym ограничивают эпизод 200 шагами. Это ограничивает возможности CEM в обучении в большинстве случаев. Убедитесь, что Ваш агент способен симулировать эпизоды с заданным __t_max__, и если нет, то попробуйте `env = gym.make(\"MountainCar-v0\").env` или в ином случае избавьтесь от TimeLimit wrapper.\n",
        "* Если Вы пользуетесь старой _swig_ библиотекой для LunarLander-v2, у Вас может возникнуть ошибка. Детали по [ссылке](https://github.com/openai/gym/issues/100) с решением проблемы.\n",
        "* Если CEM не будет обучаться, то построение диаграмм распределения награды и запись видео эпизодов могут помочь: они Вас могут натолкнуть на идею исправления.\n",
        "* 20-нейронной сети может не хватить, не стесняйтесь экспериментировать.\n",
        "\n",
        "Ячейка с кодом ниже может оказаться полезной:"
      ]
    },
    {
      "cell_type": "code",
      "execution_count": null,
      "metadata": {
        "id": "2vNV17WUYWHa"
      },
      "outputs": [],
      "source": [
        "def visualize_mountain_car(env, agent):\n",
        "    xs = np.linspace(env.min_position, env.max_position, 100)\n",
        "    vs = np.linspace(-env.max_speed, env.max_speed, 100)\n",
        "    grid = np.dstack(np.meshgrid(xs, vs)).transpose(1, 0, 2)\n",
        "    grid_flat = grid.reshape(len(xs) * len(vs), 2)\n",
        "    probs = agent.predict_proba(grid_flat).reshape(len(xs), len(vs), 3)\n",
        "    return probs"
      ]
    },
    {
      "cell_type": "markdown",
      "metadata": {
        "id": "og24RKWXYWHa"
      },
      "source": [
        "Функции-помощники для инициализации среды:"
      ]
    },
    {
      "cell_type": "code",
      "execution_count": null,
      "metadata": {
        "ExecuteTime": {
          "end_time": "2019-09-18T12:21:17.631855Z",
          "start_time": "2019-09-18T12:21:17.626438Z"
        },
        "run_control": {
          "frozen": false,
          "read_only": false
        },
        "id": "fJJKJ90NYWHa"
      },
      "outputs": [],
      "source": [
        "def get_env(name, classification=True):\n",
        "    env = gym.make(name).env\n",
        "    \n",
        "    env.reset()\n",
        "    if classification:\n",
        "        n_actions = env.action_space.n\n",
        "    else:\n",
        "        n_actions = sum(env.action_space.shape)\n",
        "    state_dim = env.observation_space.shape[0]\n",
        "    \n",
        "    plt.imshow(env.render(\"rgb_array\"))\n",
        "    print(\"state vector dim =\", state_dim)\n",
        "    print(\"n_actions =\", n_actions)\n",
        "    \n",
        "    env.close()\n",
        "    return env, n_actions, state_dim"
      ]
    },
    {
      "cell_type": "markdown",
      "metadata": {
        "id": "0MutcoATYWHb"
      },
      "source": [
        "Строгий отбор states и actions на основе перцентилей:"
      ]
    },
    {
      "cell_type": "code",
      "execution_count": null,
      "metadata": {
        "ExecuteTime": {
          "end_time": "2019-09-18T11:27:01.282729Z",
          "start_time": "2019-09-18T11:27:01.270077Z"
        },
        "run_control": {
          "frozen": false,
          "read_only": false
        },
        "id": "NtErHSp7YWHb"
      },
      "outputs": [],
      "source": [
        "def strictly_select_elites(states_batch, actions_batch, rewards_batch, percentile=50, classification=True):\n",
        "    \"\"\"\n",
        "    Выбрать states и actions из игр с rewards >= percentile\n",
        "    :param states_batch: list of lists of states, states_batch[session_i][t]\n",
        "    :param actions_batch: list of lists of actions, actions_batch[session_i][t]\n",
        "    :param rewards_batch: list of rewards, rewards_batch[session_i]\n",
        "\n",
        "    :returns: elite_states,elite_actions, оба 1D lists of states и actions из наилучших эпизодов\n",
        "\n",
        "    Просьба сохранять порядок elite states и actions \n",
        "    [то есть сортированы по номерам эпизодов и в хронологическом порядке в каждом эпизоде]\n",
        "\n",
        "    Просьба не считать по умолчанию states как целочисленные значения\n",
        "    (они позже примут другой формат).\n",
        "    Отбор в случае решения задачи классификации и в случае решения задачи регрессии несколько отличаются.\n",
        "    \"\"\"\n",
        "\n",
        "    < Ваша имплементация >\n",
        "    \n",
        "    return elite_states, elite_actions"
      ]
    },
    {
      "cell_type": "markdown",
      "metadata": {
        "id": "cSy5n-HzYWHb"
      },
      "source": [
        "Обёртка для инициализации агента:"
      ]
    },
    {
      "cell_type": "code",
      "execution_count": null,
      "metadata": {
        "ExecuteTime": {
          "end_time": "2019-09-18T15:07:35.917489Z",
          "start_time": "2019-09-18T15:07:35.909155Z"
        },
        "run_control": {
          "frozen": false,
          "read_only": false
        },
        "id": "QXgQ3H7VYWHb"
      },
      "outputs": [],
      "source": [
        "from sklearn.neural_network import MLPRegressor\n",
        "\n",
        "\n",
        "def init_agent(env, classification=True, **params):\n",
        "    if classification:\n",
        "        agent = MLPClassifier(\n",
        "            hidden_layer_sizes=(20, 20, 20, 20),\n",
        "            activation='tanh',\n",
        "        )\n",
        "    else:\n",
        "        agent = MLPRegressor(\n",
        "            hidden_layer_sizes=(20, 20, 20, 20),\n",
        "            activation='tanh',\n",
        "        )\n",
        "    \n",
        "    agent.set_params(**params)\n",
        "    \n",
        "    if classification:\n",
        "        n_actions = env.action_space.n\n",
        "        agent.partial_fit([env.reset()] * n_actions, range(n_actions), range(n_actions))\n",
        "    else:\n",
        "        n_actions = sum(env.action_space.shape)\n",
        "        if n_actions > 1:\n",
        "            agent.partial_fit([env.reset()], np.random.randn(1, n_actions))\n",
        "        else:\n",
        "            agent.partial_fit([env.reset()], np.random.randn(n_actions))\n",
        "    \n",
        "    return agent"
      ]
    },
    {
      "cell_type": "markdown",
      "metadata": {
        "id": "L7gpmDDPYWHc"
      },
      "source": [
        "Генератор эпизодов, приспособленный к параллелизации:"
      ]
    },
    {
      "cell_type": "code",
      "execution_count": null,
      "metadata": {
        "id": "JqS1dBDfYWHc"
      },
      "outputs": [],
      "source": [
        "import pickle as pkl\n",
        "\n",
        "\n",
        "def generate_parallel_session(agent, name='MountainCar-v0', t_max=10000, classification=True,\n",
        "                              epsilon=0.01, agent_mul_fac=1.0, test=False, env=None):\n",
        "    \"\"\"\n",
        "    Сыграть отдельный эпизод, используя нейросетевую параметризацию агента.\n",
        "    Останов после :t_max: шагов среды.\n",
        "    \"\"\"\n",
        "    \n",
        "    states, actions = [], []\n",
        "    total_reward = 0\n",
        "    \n",
        "    if env is None:\n",
        "        env = gym.make(name).env\n",
        "    if classification:\n",
        "        n_actions = env.action_space.n\n",
        "    else:\n",
        "        n_actions = sum(env.action_space.shape)\n",
        "    s = env.reset()\n",
        "\n",
        "    for t in range(t_max):\n",
        "        \n",
        "        if classification:\n",
        "            probs = < оценка вероятностей нейросетевой модели >\n",
        "\n",
        "            assert probs.shape == (n_actions,), \"Нужно получить вектор вероятностей\" +\\\n",
        "                \"(функция np.reshape в помощь)\"\n",
        "            \n",
        "            if test:\n",
        "                a = < наиболее вероятное действия относительно probs >\n",
        "            else:\n",
        "                a = < сэмпл действия из распределения probs >\n",
        "        else:\n",
        "            expected_action = < оценка с помощью модели среднего действия, помноженного на agent_mul_fac >\n",
        "            \n",
        "            if test:\n",
        "                a = < само expected_action >\n",
        "            else:\n",
        "                a = < сэмпл из Normal(expected_action, epsilon) >\n",
        "\n",
        "        new_s, r, done, info = env.step(a)\n",
        "\n",
        "        states.append(s)\n",
        "        actions.append(a)\n",
        "        total_reward += r\n",
        "\n",
        "        s = new_s\n",
        "        if done:\n",
        "            break\n",
        "    \n",
        "    del env, s, new_s, a\n",
        "    \n",
        "    return states, actions, total_reward"
      ]
    },
    {
      "cell_type": "markdown",
      "metadata": {
        "id": "S1zzi4onYWHc"
      },
      "source": [
        "Функция для обучения агента:"
      ]
    },
    {
      "cell_type": "code",
      "execution_count": null,
      "metadata": {
        "ExecuteTime": {
          "end_time": "2019-09-18T11:27:05.573082Z",
          "start_time": "2019-09-18T11:27:05.556702Z"
        },
        "run_control": {
          "frozen": false,
          "read_only": false
        },
        "id": "ZIDRI1EFYWHc"
      },
      "outputs": [],
      "source": [
        "from collections import deque\n",
        "from multiprocessing import Pool\n",
        "from functools import partial\n",
        "\n",
        "\n",
        "def train_agent(classification=True, epsilon=0.01, name='MountainCar-v0', n_train_steps=100,\n",
        "                n_game_steps=10000, n_sessions=100, percentile=70, goal_score=-150, history_length=4,\n",
        "                n_jobs=16, verbose=True, agent_mul_fac=1.0, **params):\n",
        "    env = gym.make(name).env\n",
        "    if classification:\n",
        "        n_actions = env.action_space.n\n",
        "    else:\n",
        "        n_actions = sum(env.action_space.shape)\n",
        "    \n",
        "    agent = init_agent(env, classification, **params)\n",
        "    \n",
        "    if verbose:\n",
        "        print('Шаг агента = {}'.format(agent.learning_rate_init), flush=True)\n",
        "    \n",
        "    log = []\n",
        "    sessions = deque([], history_length * n_sessions)\n",
        "    \n",
        "    for i in range(n_train_steps):\n",
        "        if n_jobs > 1:\n",
        "            pool = Pool(processes=n_jobs, maxtasksperchild=10)\n",
        "            sessions.extend(pool.map(partial(generate_parallel_session, agent, name, n_game_steps,\n",
        "                                             classification, epsilon, agent_mul_fac), [False] * n_sessions))\n",
        "            pool.close()\n",
        "            pool.join()\n",
        "            del pool\n",
        "        else:\n",
        "            sessions.extend([generate_parallel_session(\n",
        "                agent, name, n_game_steps, classification, epsilon, agent_mul_fac,\n",
        "                False) for _ in range(n_sessions)])\n",
        "        \n",
        "        states_batch, actions_batch, rewards_batch = map(np.array, zip(*sessions))\n",
        "        elite_states, elite_actions = strictly_select_elites(\n",
        "            states_batch, actions_batch, rewards_batch, percentile, classification)\n",
        "        \n",
        "        if classification:\n",
        "            agent.partial_fit(elite_states, elite_actions)\n",
        "        else:\n",
        "            elite_actions = elite_actions if (len(elite_actions.shape) < 2) or (elite_actions.shape[1] > 1)\\\n",
        "                            else elite_actions.reshape(-1)\n",
        "            agent.partial_fit(elite_states, elite_actions / agent_mul_fac)\n",
        "        \n",
        "        if verbose:\n",
        "            inter_min = np.min(rewards_batch)\n",
        "            min_lim = -n_game_steps if -n_game_steps < inter_min else inter_min\n",
        "            inter_max = np.max(rewards_batch)\n",
        "            max_lim = goal_score if goal_score > inter_max else inter_max\n",
        "            show_progress(rewards_batch, log, percentile, reward_range=[min_lim, max_lim])\n",
        "            \n",
        "            if np.mean(rewards_batch) > goal_score:\n",
        "                print(\"Вы выиграли! Можете прервать процедуру обучения с помощью сигнала KeyboardInterrupt.\")\n",
        "    \n",
        "    if verbose:\n",
        "        mean_reward = np.mean(rewards_batch)\n",
        "        threshold = np.percentile(rewards_batch, percentile)\n",
        "        print(\"средняя награда = %.3f, порог=%.3f\" % (mean_reward, threshold))\n",
        "        del mean_reward, threshold\n",
        "    \n",
        "    del env, sessions, states_batch, actions_batch, rewards_batch, elite_states, elite_actions\n",
        "    \n",
        "    return agent, log"
      ]
    },
    {
      "cell_type": "markdown",
      "metadata": {
        "id": "YQnd62OwYWHd"
      },
      "source": [
        "Функция для постановки экспериментов, зависящих от набора гиперпараметров:"
      ]
    },
    {
      "cell_type": "code",
      "execution_count": null,
      "metadata": {
        "id": "G5_sCRVrYWHd"
      },
      "outputs": [],
      "source": [
        "from time import time\n",
        "\n",
        "\n",
        "def training_experiment(n_jobs_list, history_length_list, learning_rate_init_list, n_train_steps_list,\n",
        "                        n_samples=5, name='MountainCar-v0', n_game_steps=10000, n_sessions=100, percentile=70,\n",
        "                        goal_score=-150, **params):\n",
        "    experiment_data = []\n",
        "    \n",
        "    for n_jobs in n_jobs_list:\n",
        "        for history_length in history_length_list:\n",
        "            for learning_rate_init in learning_rate_init_list:\n",
        "                params['learning_rate_init'] = learning_rate_init\n",
        "                for n_train_steps in n_train_steps_list:\n",
        "                    elapsed_time_list = []\n",
        "                    log_list = []\n",
        "                    \n",
        "                    for i in range(n_samples):\n",
        "                        print(\n",
        "                            'Запуск: n_jobs = {}, history_length = {},\\n'.format(\n",
        "                                n_jobs, history_length) +\\\n",
        "                            '                  learning_rate_init = {}, n_train_steps = {};\\n'.format(\n",
        "                                learning_rate_init, n_train_steps) +\\\n",
        "                            'сэмпл {} из {}.'.format(\n",
        "                                i + 1, n_samples), flush=True)\n",
        "                        \n",
        "                        elapsed_time = time()\n",
        "                        \n",
        "                        agent, log = train_agent(\n",
        "                            classification=True, epsilon=0.01, name=name, n_train_steps=n_train_steps,\n",
        "                            n_game_steps=n_game_steps, n_sessions=n_sessions, percentile=percentile,\n",
        "                            goal_score=goal_score, history_length=history_length, n_jobs=n_jobs, verbose=True,\n",
        "                            **params)\n",
        "                        \n",
        "                        elapsed_time_list.append(time() - elapsed_time)\n",
        "                        \n",
        "                        log_list.append(log)\n",
        "                        \n",
        "                        del log, agent\n",
        "                        \n",
        "                    results = {\n",
        "                               'name': name,\n",
        "                               'goal_score': goal_score,\n",
        "                               'n_jobs': n_jobs,\n",
        "                               'elapsed_time_list': elapsed_time_list,\n",
        "                               'history_length': history_length,\n",
        "                               'learning_rate_init': learning_rate_init,\n",
        "                               'n_train_steps': n_train_steps,\n",
        "                               'log_list': log_list\n",
        "                              }\n",
        "                        \n",
        "                    experiment_data.append(results)\n",
        "                    \n",
        "                    del elapsed_time_list, log_list\n",
        "    return experiment_data"
      ]
    },
    {
      "cell_type": "markdown",
      "metadata": {
        "id": "dSl5Bfg_YWHd"
      },
      "source": [
        "Функция-помощник для визуализации эффектов от переиспользования сэмплов:"
      ]
    },
    {
      "cell_type": "code",
      "execution_count": null,
      "metadata": {
        "id": "CHj_cDXnYWHd"
      },
      "outputs": [],
      "source": [
        "def plot_history_length_experiment_results(df_data):\n",
        "    history_length_vals = []\n",
        "    train_step_vals = []\n",
        "    reward_vals = []\n",
        "    mean_threshold_vals = []\n",
        "    \n",
        "    for config in df_data:\n",
        "        for log in config['log_list']:\n",
        "            mean_rewards, reward_thresholds = zip(*log)\n",
        "            mean_rewards, reward_thresholds = list(mean_rewards), list(reward_thresholds)\n",
        "            reward_vals.extend(mean_rewards)\n",
        "            reward_vals.extend(reward_thresholds)\n",
        "            train_steps_num = len(mean_rewards)\n",
        "            train_step_vals.extend(range(train_steps_num))\n",
        "            train_step_vals.extend(range(train_steps_num))\n",
        "            history_length_vals.extend([config['history_length']] * train_steps_num * 2)\n",
        "            mean_threshold_vals.extend(['mean'] * train_steps_num)\n",
        "            mean_threshold_vals.extend(['threshold'] * train_steps_num)\n",
        "    \n",
        "    df = pd.DataFrame({'Переиспользованных шагов': history_length_vals, 'Шаг №': train_step_vals,\n",
        "                       'Награда': reward_vals, 'Вид награды': mean_threshold_vals})\n",
        "    last_steps_count = np.sort(df.loc[:, 'Переиспользованных шагов'].unique())\n",
        "    max_n_colors = last_steps_count.size\n",
        "    palette = dict(zip(last_steps_count, sns.hls_palette(max_n_colors, l=.45, s=.8)))\n",
        "    \n",
        "    sns.set(font_scale=1.35)\n",
        "    g = sns.relplot(x='Шаг №', y='Награда', hue='Переиспользованных шагов', style='Вид награды', kind='line',\n",
        "                    data=df, height=8, aspect=1.5, palette=palette)\n",
        "    g.fig.suptitle('Влияние количества переиспользованных шагов при обучении {}'.format(df_data[0]['name']))\n",
        "    clear_output(True)\n",
        "    plt.show()"
      ]
    },
    {
      "cell_type": "markdown",
      "metadata": {
        "id": "fZBGk_-_YWHe"
      },
      "source": [
        "Функция-помощник для визуализации влияния шага обучения и количества итераций при обучении агента:"
      ]
    },
    {
      "cell_type": "code",
      "execution_count": null,
      "metadata": {
        "id": "iJZ-LFXwYWHe"
      },
      "outputs": [],
      "source": [
        "def plot_lrt_experiment_results(df_data):\n",
        "    learning_rate_vals = []\n",
        "    max_train_steps_vals = []\n",
        "    train_step_vals = []\n",
        "    reward_vals = []\n",
        "    mean_threshold_vals = []\n",
        "    \n",
        "    for config in df_data:\n",
        "        for log in config['log_list']:\n",
        "            mean_rewards, reward_thresholds = zip(*log)\n",
        "            mean_rewards, reward_thresholds = list(mean_rewards), list(reward_thresholds)\n",
        "            reward_vals.extend(mean_rewards)\n",
        "            reward_vals.extend(reward_thresholds)\n",
        "            train_steps_num = len(mean_rewards)\n",
        "            train_step_vals.extend(range(train_steps_num))\n",
        "            train_step_vals.extend(range(train_steps_num))\n",
        "            learning_rate_vals.extend([config['learning_rate_init']] * train_steps_num * 2)\n",
        "            max_train_steps_vals.extend([config['n_train_steps']] * train_steps_num * 2)\n",
        "            mean_threshold_vals.extend(['mean'] * train_steps_num)\n",
        "            mean_threshold_vals.extend(['threshold'] * train_steps_num)\n",
        "                \n",
        "    df = pd.DataFrame({'Шаг метода': learning_rate_vals, 'Максимум шагов': max_train_steps_vals,\n",
        "                       'Шаг №': train_step_vals, 'Награда': reward_vals,\n",
        "                       'Вид награды': mean_threshold_vals})\n",
        "    lr_vals = np.sort(df.loc[:, 'Learning rate'].unique())\n",
        "    max_n_colors = lr_vals.size\n",
        "    palette = dict(zip(lr_vals, sns.hls_palette(max_n_colors, l=.45, s=.8)))\n",
        "    \n",
        "    sns.set(font_scale=1.35)\n",
        "    g = sns.relplot(x='Шаг №', y='Награда', hue='Шаг метода', style='Вид награды', kind='line',\n",
        "                    row='Максимум шагов', data=df, height=6, aspect=1.8, palette=palette)\n",
        "    g.fig.suptitle('Влияние шага метода и количества итераций на {}'.format(df_data[0]['name']),\n",
        "                   x=0.8, y=1.05)\n",
        "    leg = g._legend\n",
        "    for lr, label in zip(lr_vals, leg.texts[1:]):\n",
        "        label.set_text(\"{:.4f}\".format(lr))\n",
        "    clear_output(True)\n",
        "    plt.show()"
      ]
    },
    {
      "cell_type": "markdown",
      "metadata": {
        "id": "i7CKe0evYWHe"
      },
      "source": [
        "Функция для записи сэмплированных игровых эпизодов:"
      ]
    },
    {
      "cell_type": "code",
      "execution_count": null,
      "metadata": {
        "id": "EtwLItt4YWHe"
      },
      "outputs": [],
      "source": [
        "def record_sessions(agent, name, t_max=10000, classification=True, epsilon=0.01, agent_mul_fac=1.0):\n",
        "    for kind, directory in [(True, \"test\"), (False, \"sample\")]:\n",
        "        env = gym.wrappers.Monitor(gym.make(name),\n",
        "                                   directory=\"videos/{}/{}\".format(name, directory), force=True)\n",
        "        sessions = [generate_parallel_session(agent, name=name, t_max=t_max, classification=classification,\n",
        "                                              epsilon=epsilon, agent_mul_fac=agent_mul_fac, test=kind,\n",
        "                                              env=env) for _ in range(100)]\n",
        "        env.close()"
      ]
    },
    {
      "cell_type": "markdown",
      "metadata": {
        "id": "4VnYGrSTYWHe"
      },
      "source": [
        "Функция, позволяющая вставить запись игрового эпизода в ноутбук:"
      ]
    },
    {
      "cell_type": "code",
      "execution_count": null,
      "metadata": {
        "id": "qOkx0R8PYWHf"
      },
      "outputs": [],
      "source": [
        "def show_video(name, directory):\n",
        "    path = \"./videos/{}/{}\".format(name, directory)\n",
        "    video_names = list(\n",
        "        filter(lambda s: s.endswith(\".mp4\"), os.listdir(path)))\n",
        "    return HTML(\"\"\"\n",
        "    <video width=\"640\" height=\"480\" controls>\n",
        "    <source src=\"{}\" type=\"video/mp4\">\n",
        "    </video>\n",
        "    \"\"\".format(path + \"/\" + video_names[-1]))"
      ]
    },
    {
      "cell_type": "markdown",
      "metadata": {
        "id": "o9zF0MsWYWHf"
      },
      "source": [
        "Сетка параметров для проведения экспериментов:"
      ]
    },
    {
      "cell_type": "code",
      "execution_count": null,
      "metadata": {
        "id": "0ULezxnKYWHf"
      },
      "outputs": [],
      "source": [
        "< n_jobs_list = сетка на количество процессов\n",
        "history_length_list = сетка на размер истории\n",
        "learning_rate_init_list = сетка на шаги метода\n",
        "n_train_steps_list = сетка на количество итераций метода >"
      ]
    },
    {
      "cell_type": "markdown",
      "metadata": {
        "id": "oDyCVIM3YWHf"
      },
      "source": [
        "## Глубокий кросс-энтропийный метод в среде MountainCar-v0"
      ]
    },
    {
      "cell_type": "code",
      "execution_count": null,
      "metadata": {
        "ExecuteTime": {
          "end_time": "2019-09-18T11:26:58.566980Z",
          "start_time": "2019-09-18T11:26:58.237111Z"
        },
        "run_control": {
          "frozen": false,
          "read_only": false
        },
        "id": "TuVsmSLpYWHg"
      },
      "outputs": [],
      "source": [
        "sns.set(font_scale=1.)\n",
        "env, n_actions, _ = get_env(\"MountainCar-v0\")"
      ]
    },
    {
      "cell_type": "code",
      "execution_count": null,
      "metadata": {
        "ExecuteTime": {
          "end_time": "2019-09-18T11:26:59.458476Z",
          "start_time": "2019-09-18T11:26:59.453077Z"
        },
        "run_control": {
          "frozen": false,
          "read_only": false
        },
        "id": "bgO4wubvYWHg"
      },
      "outputs": [],
      "source": [
        "env.observation_space, env.action_space"
      ]
    },
    {
      "cell_type": "markdown",
      "metadata": {
        "id": "0ReVQm-TYWHg"
      },
      "source": [
        "Поиск оптимального количества параллельных легковесных процессов (нитей) на конечной машине:"
      ]
    },
    {
      "cell_type": "code",
      "execution_count": null,
      "metadata": {
        "id": "BtWxB_tcYWHg"
      },
      "outputs": [],
      "source": [
        "%%time\n",
        "\n",
        "n_jobs_experiment_data = < запуск перебора на сетке с помощью training_experiment >\n",
        "\n",
        "sns.set(font_scale=1.)\n",
        "pkl.dump(n_jobs_experiment_data, open('MountainCar-v0_n_jobs_experiment_data.pkl', 'wb'))\n",
        "clear_output(True)"
      ]
    },
    {
      "cell_type": "markdown",
      "metadata": {
        "id": "IjTnU-zhYWHg"
      },
      "source": [
        "Визуализация результатов эксперимента:"
      ]
    },
    {
      "cell_type": "code",
      "execution_count": null,
      "metadata": {
        "id": "jZ4wsn3SYWHg"
      },
      "outputs": [],
      "source": [
        "import seaborn as sns\n",
        "from matplotlib import pyplot as plt\n",
        "import pandas as pd\n",
        "\n",
        "\n",
        "n_jobs_vals = []\n",
        "elapsed_time_vals = []\n",
        "elapsed_time_vars = []\n",
        "\n",
        "for config in n_jobs_experiment_data:\n",
        "    n_jobs_vals.append(config['n_jobs'])\n",
        "    elapsed_time_vals.append(np.mean(config['elapsed_time_list']))\n",
        "    elapsed_time_vars.append(np.std(config['elapsed_time_list']))\n",
        "\n",
        "df = pd.DataFrame({'Количество нитей': n_jobs_vals, 'Средний ETA, сек.': elapsed_time_vals,\n",
        "                   'Стандартное отклонение ETA': elapsed_time_vars})\n",
        "\n",
        "plt.figure(figsize=(12, 6))\n",
        "sns.set(font_scale=1.35)\n",
        "plt.title('Производительность 5 итераций обучения на {}'.format(n_jobs_experiment_data[0]['name']),\n",
        "          fontsize=16)\n",
        "ax = sns.scatterplot(x='Количество нитей', y='Средний ETA, сек.', size='Стандартное отклонение ETA',\n",
        "                     sizes=(40, 400), data=df)\n",
        "min_val = np.min(elapsed_time_vals)\n",
        "ax.axhline(min_val, color='red', ls='--', linewidth=2, label='{:.2f} сек.'.format(min_val))\n",
        "plt.legend()\n",
        "clear_output(True)\n",
        "plt.show()"
      ]
    },
    {
      "cell_type": "markdown",
      "metadata": {
        "id": "DvymWIGpYWHh"
      },
      "source": [
        "Исследование влияния переиспользования сэмплов в процессе обучения:"
      ]
    },
    {
      "cell_type": "code",
      "execution_count": null,
      "metadata": {
        "id": "eutDKEHYYWHh"
      },
      "outputs": [],
      "source": [
        "%%time\n",
        "\n",
        "history_length_experiment_data = < запуск перебора на сетке с помощью training_experiment >\n",
        "\n",
        "sns.set(font_scale=1.)\n",
        "pkl.dump(history_length_experiment_data, open('MountainCar-v0_history_length_experiment_data.pkl', 'wb'))\n",
        "clear_output(True)"
      ]
    },
    {
      "cell_type": "markdown",
      "metadata": {
        "id": "Aw6Qo-zPYWHh"
      },
      "source": [
        "Результаты текущего эксперимента:"
      ]
    },
    {
      "cell_type": "code",
      "execution_count": null,
      "metadata": {
        "id": "TJcw5YWWYWHh"
      },
      "outputs": [],
      "source": [
        "plot_history_length_experiment_results(history_length_experiment_data)"
      ]
    },
    {
      "cell_type": "markdown",
      "metadata": {
        "id": "ayINtGqtYWHh"
      },
      "source": [
        "Поиск оптимального шага обучения для многослойного перцептрона (MLP) вместе c подбором количества шагов обучения:"
      ]
    },
    {
      "cell_type": "code",
      "execution_count": null,
      "metadata": {
        "id": "dXFKuSG8YWHh"
      },
      "outputs": [],
      "source": [
        "%%time\n",
        "\n",
        "lrt_experiment_data = < запуск перебора на сетке с помощью training_experiment >\n",
        "\n",
        "sns.set(font_scale=1.)\n",
        "pkl.dump(lrt_experiment_data, open('MountainCar-v0_lrt_experiment_data.pkl', 'wb'))\n",
        "clear_output(True)"
      ]
    },
    {
      "cell_type": "markdown",
      "metadata": {
        "id": "_r9TGKowYWHi"
      },
      "source": [
        "Результаты текущего эксперимента:"
      ]
    },
    {
      "cell_type": "code",
      "execution_count": null,
      "metadata": {
        "id": "lU4mFU_5YWHi"
      },
      "outputs": [],
      "source": [
        "plot_lrt_experiment_results(lrt_experiment_data)"
      ]
    },
    {
      "cell_type": "markdown",
      "metadata": {
        "id": "uE_jXn-9YWHi"
      },
      "source": [
        "Обучение агента на задаче MountainCar-v0 с использованием подобранных ранее гиперпараметров:"
      ]
    },
    {
      "cell_type": "code",
      "execution_count": null,
      "metadata": {
        "id": "nlogrLRhYWHi"
      },
      "outputs": [],
      "source": [
        "%%time\n",
        "\n",
        "sns.set(font_scale=1.)\n",
        "agent, _ = < запуск функции train_agent для обучения агента >"
      ]
    },
    {
      "cell_type": "markdown",
      "metadata": {
        "id": "td3PPjJ1YWHi"
      },
      "source": [
        "Визуализация действий обученного агента в зависимости скорости и положения:"
      ]
    },
    {
      "cell_type": "code",
      "execution_count": null,
      "metadata": {
        "ExecuteTime": {
          "end_time": "2019-09-18T11:55:31.581377Z",
          "start_time": "2019-09-18T11:55:31.311601Z"
        },
        "run_control": {
          "frozen": false,
          "read_only": false
        },
        "id": "_8KCHhQ4YWHi"
      },
      "outputs": [],
      "source": [
        "sns.set(font_scale=1.)\n",
        "plt.imshow(visualize_mountain_car(env, agent))"
      ]
    },
    {
      "cell_type": "markdown",
      "metadata": {
        "id": "DPhfsrlyYWHi"
      },
      "source": [
        "Сэмпл детерминированной стратегии по въезду на холм:"
      ]
    },
    {
      "cell_type": "code",
      "execution_count": null,
      "metadata": {
        "id": "b0fzO-6CYWHi"
      },
      "outputs": [],
      "source": [
        "record_sessions(agent, \"MountainCar-v0\")\n",
        "show_video(\"MountainCar-v0\", \"test\")"
      ]
    },
    {
      "cell_type": "markdown",
      "metadata": {
        "id": "8F7WHOsPYWHj"
      },
      "source": [
        "Сэмпл стохастической стратегии по въезду на холм:"
      ]
    },
    {
      "cell_type": "code",
      "execution_count": null,
      "metadata": {
        "id": "lSDXEfbtYWHj"
      },
      "outputs": [],
      "source": [
        "show_video(\"MountainCar-v0\", \"sample\")"
      ]
    },
    {
      "cell_type": "markdown",
      "metadata": {
        "id": "hoXK4GKeYWHj"
      },
      "source": [
        "## Обучение агента в среде LunarLander-v2"
      ]
    },
    {
      "cell_type": "code",
      "execution_count": null,
      "metadata": {
        "ExecuteTime": {
          "end_time": "2019-09-18T12:12:40.985701Z",
          "start_time": "2019-09-18T12:12:40.844112Z"
        },
        "run_control": {
          "frozen": false,
          "read_only": false
        },
        "id": "NZEcBSthYWHj"
      },
      "outputs": [],
      "source": [
        "sns.set(font_scale=1.)\n",
        "env, n_actions, _ = get_env(\"LunarLander-v2\")"
      ]
    },
    {
      "cell_type": "code",
      "execution_count": null,
      "metadata": {
        "id": "_-tzMF7TYWHj"
      },
      "outputs": [],
      "source": [
        "env.observation_space, env.action_space"
      ]
    },
    {
      "cell_type": "markdown",
      "metadata": {
        "id": "LHoq5PVnYWHj"
      },
      "source": [
        "Обучение агента:"
      ]
    },
    {
      "cell_type": "code",
      "execution_count": null,
      "metadata": {
        "id": "pv2bRBhvYWHj"
      },
      "outputs": [],
      "source": [
        "%%time\n",
        "\n",
        "agent, _ = < запуск функции train_agent для обучения агента >"
      ]
    },
    {
      "cell_type": "markdown",
      "metadata": {
        "id": "hliIHFQxYWHk"
      },
      "source": [
        "Детерминированная стратегия:"
      ]
    },
    {
      "cell_type": "code",
      "execution_count": null,
      "metadata": {
        "id": "k0aY9BvxYWHk"
      },
      "outputs": [],
      "source": [
        "record_sessions(agent, 'LunarLander-v2', t_max=1000)\n",
        "show_video('LunarLander-v2', 'test')"
      ]
    },
    {
      "cell_type": "markdown",
      "metadata": {
        "id": "lVJ-kAXGYWHk"
      },
      "source": [
        "Стохастическая стратегия:"
      ]
    },
    {
      "cell_type": "code",
      "execution_count": null,
      "metadata": {
        "id": "ndXzQVtFYWHk"
      },
      "outputs": [],
      "source": [
        "show_video('LunarLander-v2', 'sample')"
      ]
    },
    {
      "cell_type": "markdown",
      "metadata": {
        "run_control": {
          "frozen": false,
          "read_only": false
        },
        "id": "cKhgGSvJYWHk"
      },
      "source": [
        "### Ещё дополнительное задание (вплоть до 5 баллов)\n",
        "\n",
        "* __2.3 дополнительное__ Обучить агента в среде с непрерывным пространством действий с помощью `MLPRegressor` или похожим образом.\n",
        "  * Начните с [\"Pendulum-v0\"](https://www.gymlibrary.dev/environments/classic_control/pendulum/), попробуйте получить среднее вознаграждение **как минимум -300**.\n",
        "  * Поскольку Ваш агент оценивает \"среднее\" действие, полезно добавить небольшой шум для исследования среды.\n",
        "  * Обучить агентов в [MountainCarContinuous-v0](https://mgoulao.github.io/gym-docs/environments/classic_control/mountain_car_continuous/), [LunarLanderContinuous-v2](https://www.gymlibrary.dev/environments/box2d/lunar_lander/). За достижение награды ниже порогового значения будет начислено меньше баллов. Помните, что дискретные и непрерывные среды могут отличаться не только в пространстве действий. Требования на среднее вознаграждение такие же, как и в случае сред **MountainCar** и **LunarLander** ранее.\n",
        "  * __Просьба при сдаче задания перечислить, что было сделано__"
      ]
    },
    {
      "cell_type": "markdown",
      "metadata": {
        "id": "q2uzY99RYWHk"
      },
      "source": [
        "## Обучение в Pendulum-v0"
      ]
    },
    {
      "cell_type": "code",
      "execution_count": null,
      "metadata": {
        "id": "Xw780SpTYWHl"
      },
      "outputs": [],
      "source": [
        "sns.set(font_scale=1.)\n",
        "env, n_actions, _ = get_env('Pendulum-v0', False)"
      ]
    },
    {
      "cell_type": "code",
      "execution_count": null,
      "metadata": {
        "id": "KcAwL8MLYWHl"
      },
      "outputs": [],
      "source": [
        "env.observation_space, env.action_space"
      ]
    },
    {
      "cell_type": "markdown",
      "metadata": {
        "id": "pkVdV3RBYWHl"
      },
      "source": [
        "Обучение агента:"
      ]
    },
    {
      "cell_type": "code",
      "execution_count": null,
      "metadata": {
        "id": "k6vHqUzjYWHl"
      },
      "outputs": [],
      "source": [
        "%%time\n",
        "\n",
        "agent, _ = < запуск функции train_agent для обучения агента >"
      ]
    },
    {
      "cell_type": "markdown",
      "metadata": {
        "id": "4Ingjq_TYWHl"
      },
      "source": [
        "Детерминированная стратегия:"
      ]
    },
    {
      "cell_type": "code",
      "execution_count": null,
      "metadata": {
        "id": "ZPHTVzIcYWHl"
      },
      "outputs": [],
      "source": [
        "record_sessions(agent, 'Pendulum-v0', t_max=1000, classification=False, epsilon=.5, agent_mul_fac=2.)\n",
        "show_video('Pendulum-v0', 'test')"
      ]
    },
    {
      "cell_type": "markdown",
      "metadata": {
        "id": "jNALmXGWYWHm"
      },
      "source": [
        "Стохастическая стратегия:"
      ]
    },
    {
      "cell_type": "code",
      "execution_count": null,
      "metadata": {
        "id": "BZKJF_g-YWHm"
      },
      "outputs": [],
      "source": [
        "show_video('Pendulum-v0', 'sample')"
      ]
    },
    {
      "cell_type": "markdown",
      "metadata": {
        "id": "BEspdMUcYWHm"
      },
      "source": [
        "## Обучение MountainCarContinuous-v0"
      ]
    },
    {
      "cell_type": "code",
      "execution_count": null,
      "metadata": {
        "id": "35lL82LIYWHm"
      },
      "outputs": [],
      "source": [
        "sns.set(font_scale=1.)\n",
        "env, n_actions, _ = get_env('MountainCarContinuous-v0', False)"
      ]
    },
    {
      "cell_type": "code",
      "execution_count": null,
      "metadata": {
        "id": "M_lJfJlAYWHm"
      },
      "outputs": [],
      "source": [
        "env.observation_space, env.action_space"
      ]
    },
    {
      "cell_type": "markdown",
      "metadata": {
        "id": "zoWadueFYWHm"
      },
      "source": [
        "Обучение агента:"
      ]
    },
    {
      "cell_type": "code",
      "execution_count": null,
      "metadata": {
        "id": "bgIwtjHYYWHm"
      },
      "outputs": [],
      "source": [
        "%%time\n",
        "\n",
        "agent, _ = < запуск функции train_agent для обучения агента >"
      ]
    },
    {
      "cell_type": "markdown",
      "metadata": {
        "id": "Pwoh22ivYWHm"
      },
      "source": [
        "Детерминированная стратегия:"
      ]
    },
    {
      "cell_type": "code",
      "execution_count": null,
      "metadata": {
        "id": "BBq8RkE3YWHn"
      },
      "outputs": [],
      "source": [
        "record_sessions(agent, 'MountainCarContinuous-v0', t_max=10000, classification=False, epsilon=1.0,\n",
        "                agent_mul_fac=1.0)\n",
        "show_video('MountainCarContinuous-v0', 'test')"
      ]
    },
    {
      "cell_type": "markdown",
      "metadata": {
        "id": "GBnTeyK_YWHn"
      },
      "source": [
        "Стохастическая стратегия:"
      ]
    },
    {
      "cell_type": "code",
      "execution_count": null,
      "metadata": {
        "id": "ifpQ77e0YWHn"
      },
      "outputs": [],
      "source": [
        "show_video('MountainCarContinuous-v0', 'sample')"
      ]
    },
    {
      "cell_type": "markdown",
      "metadata": {
        "id": "DzO_gKszYWHn"
      },
      "source": [
        "## Обучение LunarLanderContinuous-v2"
      ]
    },
    {
      "cell_type": "code",
      "execution_count": null,
      "metadata": {
        "id": "ltfF1KLOYWHn"
      },
      "outputs": [],
      "source": [
        "sns.set(font_scale=1.)\n",
        "env, n_actions, _ = get_env('LunarLanderContinuous-v2', False)"
      ]
    },
    {
      "cell_type": "code",
      "execution_count": null,
      "metadata": {
        "id": "qOOGmr-BYWHn"
      },
      "outputs": [],
      "source": [
        "env.observation_space, env.action_space"
      ]
    },
    {
      "cell_type": "markdown",
      "metadata": {
        "id": "XjEa_N_SYWHn"
      },
      "source": [
        "Обучение агента:"
      ]
    },
    {
      "cell_type": "code",
      "execution_count": null,
      "metadata": {
        "id": "CLB5l56QYWHo"
      },
      "outputs": [],
      "source": [
        "%%time\n",
        "\n",
        "agent, _ = < запуск функции train_agent для обучения агента >"
      ]
    },
    {
      "cell_type": "markdown",
      "metadata": {
        "id": "B2CpfL79YWHo"
      },
      "source": [
        "Детерминированная стратегия:"
      ]
    },
    {
      "cell_type": "code",
      "execution_count": null,
      "metadata": {
        "id": "ypC-Fp7LYWHo"
      },
      "outputs": [],
      "source": [
        "record_sessions(agent, 'LunarLanderContinuous-v2', t_max=1000, classification=False, epsilon=1.0,\n",
        "                agent_mul_fac=1.0)\n",
        "show_video('LunarLanderContinuous-v2', 'test')"
      ]
    },
    {
      "cell_type": "markdown",
      "metadata": {
        "id": "Csg6eMRrYWHo"
      },
      "source": [
        "Стохастическая стратегия:"
      ]
    },
    {
      "cell_type": "code",
      "execution_count": null,
      "metadata": {
        "id": "snddY5fKYWHo"
      },
      "outputs": [],
      "source": [
        "show_video('LunarLanderContinuous-v2', 'sample')"
      ]
    },
    {
      "cell_type": "code",
      "execution_count": null,
      "metadata": {
        "id": "-3_jf7oTYWHo"
      },
      "outputs": [],
      "source": []
    }
  ],
  "metadata": {
    "kernelspec": {
      "display_name": "Python 3",
      "language": "python",
      "name": "python3"
    },
    "language_info": {
      "codemirror_mode": {
        "name": "ipython",
        "version": 3
      },
      "file_extension": ".py",
      "mimetype": "text/x-python",
      "name": "python",
      "nbconvert_exporter": "python",
      "pygments_lexer": "ipython3",
      "version": "3.8.10"
    },
    "colab": {
      "provenance": []
    }
  },
  "nbformat": 4,
  "nbformat_minor": 0
}